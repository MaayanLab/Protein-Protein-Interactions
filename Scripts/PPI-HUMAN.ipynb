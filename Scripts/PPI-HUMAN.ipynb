{
 "cells": [
  {
   "cell_type": "markdown",
   "metadata": {},
   "source": [
    "Import necessary modules"
   ]
  },
  {
   "cell_type": "code",
   "execution_count": 1,
   "metadata": {
    "collapsed": true
   },
   "outputs": [],
   "source": [
    "import numpy as np \n",
    "import pandas as pd\n",
    "import urllib.request \n",
    "import requests, io\n",
    "import urllib, re, string\n",
    "import datetime"
   ]
  },
  {
   "cell_type": "markdown",
   "metadata": {},
   "source": [
    "Include for nicer format of tables when printing"
   ]
  },
  {
   "cell_type": "code",
   "execution_count": 7,
   "metadata": {
    "collapsed": true
   },
   "outputs": [],
   "source": [
    "pd.set_option('display.notebook_repr_html', True)\n",
    "\n",
    "def _repr_latex_(self):\n",
    "    return \"\\centering{%s}\" % self.to_latex()\n",
    "\n",
    "pd.DataFrame._repr_latex_ = _repr_latex_  # monkey patch pandas DataFrame"
   ]
  },
  {
   "cell_type": "markdown",
   "metadata": {},
   "source": [
    "### Data Source and Date of Retrieval"
   ]
  },
  {
   "cell_type": "markdown",
   "metadata": {},
   "source": [
    "Data Retrieved 1/23/2017  \n",
    "\n",
    "http://mint.bio.uniroma2.it/mitab/MINT_MiTab.txt (Mint) \n",
    "\n",
    "Data Retrieved 1/25/2017  \n",
    "\n",
    "https://thebiogrid.org/downloads/archives/Release%20Archive/BIOGRID-3.4.144/BIOGRID-ALL-3.4.144.mitab.zip (BioGrid)  \n",
    "http://www.innatedb.com/download/interactions/innatedb_ppi.mitab.gz (InnateDB)  \n",
    "http://dip.doe-mbi.ucla.edu/dip/File.cgi?FN=2016/tab25/dip20160731.txt (DIP)\n",
    "\n",
    "Data Retrieved 1/26/2017   \n",
    "http://mentha.uniroma2.it/doDownload.php?file=organisms/9606.zip (mentha)  \n",
    "http://www.ebi.ac.uk/intact/downloads (IntAct)  \n",
    "\n",
    "Data Retrieved 2/1/2017     \n",
    "http://amp.pharm.mssm.edu/X2K/datasets/SNAVI.sig (SAVI)  \n",
    "http://amp.pharm.mssm.edu/X2K/datasets/KEA.zip (KEA)  \n",
    "http://amp.pharm.mssm.edu/X2K/datasets/ppid.sig (ppid)  "
   ]
  },
  {
   "cell_type": "code",
   "execution_count": 8,
   "metadata": {
    "collapsed": true
   },
   "outputs": [],
   "source": [
    "# column identifiers for initial data (as taken from respective metadata)\n",
    "col_name = ['Unique identifier for interactor A',\n",
    "      'Unique identifier for interactor B',\n",
    "      'Alternative identifier for interactor A',\n",
    "      'Alternative identifier for interactor B',\n",
    "      'Aliases for A',\n",
    "      'Aliases for B',\n",
    "      'Interaction detection methods',\n",
    "      'First author',\n",
    "      'Identifier of the publication',\n",
    "      'NCBI Taxonomy identifier for interactor A',\n",
    "      'NCBI Taxonomy identifier for interactor B',\n",
    "      'Interaction types',\n",
    "      'Source databases', \n",
    "      'Interaction identifier(s)',\n",
    "      'Confidence score']"
   ]
  },
  {
   "cell_type": "markdown",
   "metadata": {},
   "source": [
    "#### Read mint data from url and creat file"
   ]
  },
  {
   "cell_type": "code",
   "execution_count": 9,
   "metadata": {
    "collapsed": false
   },
   "outputs": [],
   "source": [
    "##read in data from Mint and write to file (only needs to be proformed once)\n",
    "# content=urllib.request.urlopen('http://mint.bio.uniroma2.it/mitab/MINT_MiTab.txt') \n",
    "\n",
    "# target = open('mint.tsv', 'wb')\n",
    "# for line in content:\n",
    "#     target.write(line)\n",
    "# target.close()"
   ]
  },
  {
   "cell_type": "markdown",
   "metadata": {},
   "source": [
    "## Mint Data"
   ]
  },
  {
   "cell_type": "code",
   "execution_count": 13,
   "metadata": {
    "collapsed": false
   },
   "outputs": [],
   "source": [
    "mint_df = pd.read_csv('/Users/moshesilverstein/Desktop/PPI Library/Input/mint.tsv', sep='\\t', index_col=False, header=None)"
   ]
  },
  {
   "cell_type": "code",
   "execution_count": 11,
   "metadata": {
    "collapsed": false
   },
   "outputs": [],
   "source": [
    "# assign names to columns from meta data\n",
    "for i in np.arange(len(col_name)):\n",
    "    mint_df.rename(columns={i:col_name[i]}, inplace=True)"
   ]
  },
  {
   "cell_type": "code",
   "execution_count": 12,
   "metadata": {
    "collapsed": false
   },
   "outputs": [],
   "source": [
    "# get only human (or mouse) data (first protein)\n",
    "n = mint_df['Aliases for A'].values\n",
    "b = [i for i,item in enumerate(n) if \"human\" in item]\n",
    "mint_df = mint_df.ix[b]"
   ]
  },
  {
   "cell_type": "code",
   "execution_count": 13,
   "metadata": {
    "collapsed": true
   },
   "outputs": [],
   "source": [
    "mint_df =  mint_df.reset_index().drop('index', axis=1)\n",
    "\n",
    "# get only human (or mouse) data (second protein)\n",
    "n = mint_df['Aliases for B'].values\n",
    "b = [i for i,item in enumerate(n) if \"human\" in item]\n",
    "mint_df = mint_df.ix[b]"
   ]
  },
  {
   "cell_type": "code",
   "execution_count": 14,
   "metadata": {
    "collapsed": false
   },
   "outputs": [
    {
     "name": "stdout",
     "output_type": "stream",
     "text": [
      " 26694 Out of 26694 "
     ]
    }
   ],
   "source": [
    "# drop any data that was published with more then 10 PPI's per publication\n",
    "i = 1\n",
    "lst = []\n",
    "for pub in mint_df['Identifier of the publication'].values:\n",
    "    print('\\r', str(i)+' Out of '+ str(len(mint_df['Identifier of the publication'].values)), end=' ', flush=True)\n",
    "    lst.append(mint_df[mint_df['Identifier of the publication'] == pub].shape[0] <= 10)\n",
    "    i +=1\n",
    "\n",
    "mint_df = mint_df[lst]"
   ]
  },
  {
   "cell_type": "code",
   "execution_count": 15,
   "metadata": {
    "collapsed": true
   },
   "outputs": [],
   "source": [
    "# select only relevent data\n",
    "mint_df = mint_df[['Aliases for A', 'Aliases for B', 'Identifier of the publication', 'Source databases']]"
   ]
  },
  {
   "cell_type": "code",
   "execution_count": 16,
   "metadata": {
    "collapsed": false
   },
   "outputs": [],
   "source": [
    "# change column one to just show gene name\n",
    "#i = 1\n",
    "lst = []\n",
    "for name in mint_df['Aliases for A']:\n",
    "    #print('\\r', i, end=' ', flush=True)\n",
    "    name = str(name)\n",
    "    if '(gene name)' in name:\n",
    "        temp = name.split('|')\n",
    "        for ID in temp:\n",
    "            if '(gene name)' in ID:\n",
    "                lst.append(ID.split(':')[1].split('(')[0])\n",
    "                break\n",
    "\n",
    "    else:\n",
    "        lst.append(np.nan)\n",
    "    \n",
    "    #i += 1\n",
    "mint_df['Aliases for A'] = lst"
   ]
  },
  {
   "cell_type": "code",
   "execution_count": 17,
   "metadata": {
    "collapsed": true
   },
   "outputs": [],
   "source": [
    "# change column two to just show gene name\n",
    "#i = 1\n",
    "lst = []\n",
    "for name in mint_df['Aliases for B']:\n",
    "    #print('\\r', i, end=' ', flush=True)\n",
    "    name = str(name)\n",
    "    if '(gene name)' in name:\n",
    "        temp = name.split('|')\n",
    "        for ID in temp:\n",
    "            if '(gene name)' in ID:\n",
    "                lst.append(ID.split(':')[1].split('(')[0])\n",
    "                break\n",
    "\n",
    "    else:\n",
    "        lst.append(np.nan)\n",
    "    \n",
    "    #i += 1\n",
    "mint_df['Aliases for B'] = lst"
   ]
  },
  {
   "cell_type": "code",
   "execution_count": 18,
   "metadata": {
    "collapsed": true
   },
   "outputs": [],
   "source": [
    "# drop data for which no gene name is provited (or ensamble ID)\n",
    "mint_df.dropna(how='any', inplace=True, axis=0)"
   ]
  },
  {
   "cell_type": "code",
   "execution_count": 19,
   "metadata": {
    "collapsed": true
   },
   "outputs": [],
   "source": [
    "mint_df.drop_duplicates(['Aliases for A', 'Aliases for B'], inplace=True)"
   ]
  },
  {
   "cell_type": "code",
   "execution_count": 20,
   "metadata": {
    "collapsed": true
   },
   "outputs": [],
   "source": [
    "# Get Only PubMed ID for publication identifier\n",
    "lst = []\n",
    "\n",
    "for pub in mint_df['Identifier of the publication']:\n",
    "    pub = str(pub)\n",
    "    pub = pub.split('|')[1].split(':')[1]\n",
    "    lst.append(pub)\n",
    "mint_df['Identifier of the publication'] = lst"
   ]
  },
  {
   "cell_type": "code",
   "execution_count": 21,
   "metadata": {
    "collapsed": false
   },
   "outputs": [],
   "source": [
    "# Drop data for which there is no PubMed ID\n",
    "lst = []\n",
    "for value in mint_df['Identifier of the publication']:\n",
    "    if 'unassigned' in value:\n",
    "        lst.append(True)\n",
    "    else:\n",
    "        lst.append(False)\n",
    "\n",
    "mint_df = mint_df.drop(mint_df[lst].index)"
   ]
  },
  {
   "cell_type": "code",
   "execution_count": 22,
   "metadata": {
    "collapsed": true
   },
   "outputs": [],
   "source": [
    "# Drop any data missing information\n",
    "mint_df.dropna(inplace=True)"
   ]
  },
  {
   "cell_type": "code",
   "execution_count": 63,
   "metadata": {
    "collapsed": true
   },
   "outputs": [],
   "source": [
    "mint_df.to_csv('/Users/moshesilverstein/Desktop/PPI Library/IntProc/mint_human.csv', sep='\\t')"
   ]
  },
  {
   "cell_type": "markdown",
   "metadata": {},
   "source": [
    "## BioGrid Data"
   ]
  },
  {
   "cell_type": "code",
   "execution_count": 23,
   "metadata": {
    "collapsed": true
   },
   "outputs": [],
   "source": [
    "biogrid_df = pd.read_csv('/Users/moshesilverstein/Desktop/PPI Library/Input/BIOGRID-ALL-3.4.144.mitab.txt', sep='\\t', index_col=False)"
   ]
  },
  {
   "cell_type": "code",
   "execution_count": 24,
   "metadata": {
    "collapsed": true
   },
   "outputs": [],
   "source": [
    "# get only human (or mouse) data\n",
    "n = biogrid_df['Taxid Interactor A'].values\n",
    "b = [i for i,item in enumerate(n) if \"taxid:9606\" in item] #taxid:9606 for human, taxid:10090 for mouse\n",
    "biogrid_df = biogrid_df.ix[b]"
   ]
  },
  {
   "cell_type": "code",
   "execution_count": 25,
   "metadata": {
    "collapsed": true
   },
   "outputs": [],
   "source": [
    "biogrid_df =  biogrid_df.reset_index().drop('index', axis=1)\n",
    "\n",
    "# get only human (or mouse) data\n",
    "n = biogrid_df['Taxid Interactor B'].values\n",
    "b = [i for i,item in enumerate(n) if \"taxid:9606\" in item] #taxid:9606 for human, taxid:10090 for mouse\n",
    "biogrid_df = biogrid_df.ix[b]"
   ]
  },
  {
   "cell_type": "code",
   "execution_count": 26,
   "metadata": {
    "collapsed": false
   },
   "outputs": [
    {
     "name": "stdout",
     "output_type": "stream",
     "text": [
      " 24500 Out of 22528 "
     ]
    }
   ],
   "source": [
    "# drop any data that was published with more then 10 PPI's per publication\n",
    "i = 1\n",
    "for pub in biogrid_df['Publication Identifiers'].unique():\n",
    "    if i % 100 == 0:\n",
    "        print('\\r', str(i)+' Out of '+ str(len(biogrid_df['Publication Identifiers'].unique())), end=' ', flush=True)\n",
    "    if biogrid_df[biogrid_df['Publication Identifiers'] == pub].shape[0] > 10:\n",
    "        biogrid_df.drop(biogrid_df[biogrid_df['Publication Identifiers'] == pub].index.tolist(), inplace=True)\n",
    "    i +=1\n"
   ]
  },
  {
   "cell_type": "code",
   "execution_count": 27,
   "metadata": {
    "collapsed": false
   },
   "outputs": [],
   "source": [
    "biogrid_df = biogrid_df[['Alt IDs Interactor A', 'Alt IDs Interactor B', 'Publication Identifiers', 'Source Database']]"
   ]
  },
  {
   "cell_type": "code",
   "execution_count": 28,
   "metadata": {
    "collapsed": true
   },
   "outputs": [],
   "source": [
    "biogrid_df.rename(columns={'Alt IDs Interactor A': 'Aliases for A', 'Alt IDs Interactor B':'Aliases for B', 'Publication Identifiers':'Identifier of the publication', 'Source Database':'Source databases'}, inplace=True)"
   ]
  },
  {
   "cell_type": "code",
   "execution_count": 29,
   "metadata": {
    "collapsed": false
   },
   "outputs": [
    {
     "name": "stdout",
     "output_type": "stream",
     "text": [
      " 70700 "
     ]
    }
   ],
   "source": [
    "# change column one to just show gene name\n",
    "i = 1\n",
    "lst = []\n",
    "for name in biogrid_df['Aliases for A']:\n",
    "    if i % 100 == 0:\n",
    "        print('\\r', i, end=' ', flush=True)\n",
    "    name = str(name) \n",
    "    if name != 'nan':\n",
    "        lst.append(name.split('|')[1].split(':')[1])\n",
    "    else:\n",
    "        lst.append(np.nan)\n",
    "    i += 1\n",
    "biogrid_df['Aliases for A'] = lst"
   ]
  },
  {
   "cell_type": "code",
   "execution_count": 30,
   "metadata": {
    "collapsed": false
   },
   "outputs": [
    {
     "name": "stdout",
     "output_type": "stream",
     "text": [
      " 70700 "
     ]
    }
   ],
   "source": [
    "# change column two to just show gene name\n",
    "i = 1\n",
    "lst = []\n",
    "for name in biogrid_df['Aliases for B']:\n",
    "    if i % 100 == 0:\n",
    "        print('\\r', i, end=' ', flush=True)\n",
    "    name = str(name) \n",
    "    if name != 'nan':\n",
    "        lst.append(name.split('|')[1].split(':')[1])\n",
    "    else:\n",
    "        lst.append(np.nan)\n",
    "    i += 1\n",
    "biogrid_df['Aliases for B'] = lst"
   ]
  },
  {
   "cell_type": "code",
   "execution_count": 31,
   "metadata": {
    "collapsed": true
   },
   "outputs": [],
   "source": [
    "# drop data for which no gene name is provited (or ensamble ID)\n",
    "biogrid_df.dropna(how='any', inplace=True, axis=0)"
   ]
  },
  {
   "cell_type": "code",
   "execution_count": 32,
   "metadata": {
    "collapsed": true
   },
   "outputs": [],
   "source": [
    "biogrid_df.drop_duplicates(['Aliases for A', 'Aliases for B'], inplace=True)"
   ]
  },
  {
   "cell_type": "code",
   "execution_count": 33,
   "metadata": {
    "collapsed": true
   },
   "outputs": [],
   "source": [
    "lst = []\n",
    "\n",
    "for pub in biogrid_df['Identifier of the publication']:\n",
    "    pub = str(pub)\n",
    "    pub = pub.split(':')[1]\n",
    "    lst.append(pub)\n",
    "biogrid_df['Identifier of the publication'] = lst"
   ]
  },
  {
   "cell_type": "code",
   "execution_count": 34,
   "metadata": {
    "collapsed": false
   },
   "outputs": [
    {
     "data": {
      "text/plain": [
       "(43586, 4)"
      ]
     },
     "execution_count": 34,
     "metadata": {},
     "output_type": "execute_result"
    }
   ],
   "source": [
    "biogrid_df.shape"
   ]
  },
  {
   "cell_type": "code",
   "execution_count": 35,
   "metadata": {
    "collapsed": false
   },
   "outputs": [],
   "source": [
    "lst = []\n",
    "for value in biogrid_df['Identifier of the publication']:\n",
    "    if 'unassigned' in value:\n",
    "        lst.append(True)\n",
    "    else:\n",
    "        lst.append(False)\n",
    "\n",
    "biogrid_df = biogrid_df.drop(biogrid_df[lst].index)"
   ]
  },
  {
   "cell_type": "code",
   "execution_count": 36,
   "metadata": {
    "collapsed": false
   },
   "outputs": [],
   "source": [
    "biogrid_df.dropna(inplace=True)"
   ]
  },
  {
   "cell_type": "code",
   "execution_count": 64,
   "metadata": {
    "collapsed": true
   },
   "outputs": [],
   "source": [
    "biogrid_df.to_csv('/Users/moshesilverstein/Desktop/PPI Library/IntProc/biogrid_human.csv', sep='\\t')"
   ]
  },
  {
   "cell_type": "markdown",
   "metadata": {},
   "source": [
    "## InnateDB Data"
   ]
  },
  {
   "cell_type": "code",
   "execution_count": 37,
   "metadata": {
    "collapsed": false
   },
   "outputs": [],
   "source": [
    "innatedb_df = pd.read_csv('/Users/moshesilverstein/Desktop/PPI Library/Input/innatedb_ppi.mitab', sep='\\t', index_col=False)"
   ]
  },
  {
   "cell_type": "code",
   "execution_count": 38,
   "metadata": {
    "collapsed": true
   },
   "outputs": [],
   "source": [
    "# get only human (or mouse) data\n",
    "n = innatedb_df['ncbi_taxid_A'].values\n",
    "b = [i for i,item in enumerate(n) if \"Human\" in item]\n",
    "innatedb_df = innatedb_df.ix[b]"
   ]
  },
  {
   "cell_type": "code",
   "execution_count": 39,
   "metadata": {
    "collapsed": false
   },
   "outputs": [],
   "source": [
    "innatedb_df =  innatedb_df.reset_index().drop('index', axis=1)\n",
    "\n",
    "# get only human (or mouse) data\n",
    "n = innatedb_df['ncbi_taxid_B'].values\n",
    "b = [i for i,item in enumerate(n) if \"Human\" in item]\n",
    "innatedb_df = innatedb_df.ix[b]"
   ]
  },
  {
   "cell_type": "code",
   "execution_count": 40,
   "metadata": {
    "collapsed": false
   },
   "outputs": [
    {
     "name": "stdout",
     "output_type": "stream",
     "text": [
      " 3000 Out of 2879 "
     ]
    }
   ],
   "source": [
    "# drop any data that was published with more then 10 PPI's per publication\n",
    "i = 1\n",
    "for pub in innatedb_df['pmid'].unique():\n",
    "    if i % 100 == 0:\n",
    "        print('\\r', str(i)+' Out of '+ str(len(innatedb_df['pmid'].unique())), end=' ', flush=True)\n",
    "    if innatedb_df[innatedb_df['pmid'] == pub].shape[0] > 10:\n",
    "        innatedb_df.drop(innatedb_df[innatedb_df['pmid'] == pub].index.tolist(), inplace=True)\n",
    "    i +=1\n"
   ]
  },
  {
   "cell_type": "code",
   "execution_count": 41,
   "metadata": {
    "collapsed": false
   },
   "outputs": [],
   "source": [
    "innatedb_df = innatedb_df[['alias_A', 'alias_B', 'pmid', 'source_database']]"
   ]
  },
  {
   "cell_type": "code",
   "execution_count": 42,
   "metadata": {
    "collapsed": true
   },
   "outputs": [],
   "source": [
    "innatedb_df.rename(columns={'alias_A': 'Aliases for A', 'alias_B':'Aliases for B', 'pmid':'Identifier of the publication', 'source_database':'Source databases'}, inplace=True)"
   ]
  },
  {
   "cell_type": "code",
   "execution_count": 43,
   "metadata": {
    "collapsed": false
   },
   "outputs": [],
   "source": [
    "# change column one to just show gene name\n",
    "#i = 1\n",
    "lst = []\n",
    "for name in innatedb_df['Aliases for A']:\n",
    "    #print('\\r', i, end=' ', flush=True)\n",
    "    name = str(name) \n",
    "    if name != 'nan':\n",
    "        lst.append(name.split('|')[-1].split(\":\")[1].split('(')[0])\n",
    "    else:\n",
    "        lst.append(np.nan)\n",
    "    #i += 1\n",
    "innatedb_df['Aliases for A'] = lst"
   ]
  },
  {
   "cell_type": "code",
   "execution_count": 44,
   "metadata": {
    "collapsed": true
   },
   "outputs": [],
   "source": [
    "# change column two to just show gene name\n",
    "#i = 1\n",
    "lst = []\n",
    "for name in innatedb_df['Aliases for B']:\n",
    "    #print('\\r', i, end=' ', flush=True)\n",
    "    name = str(name) \n",
    "    if name != 'nan':\n",
    "        lst.append(name.split('|')[-1].split(\":\")[1].split('(')[0])\n",
    "    else:\n",
    "        lst.append(np.nan)\n",
    "    #i += 1\n",
    "innatedb_df['Aliases for B'] = lst"
   ]
  },
  {
   "cell_type": "code",
   "execution_count": 45,
   "metadata": {
    "collapsed": true
   },
   "outputs": [],
   "source": [
    "# drop data for which no gene name is provited (or ensamble ID)\n",
    "innatedb_df.dropna(how='any', inplace=True, axis=0)"
   ]
  },
  {
   "cell_type": "code",
   "execution_count": 46,
   "metadata": {
    "collapsed": true
   },
   "outputs": [],
   "source": [
    "innatedb_df.drop_duplicates(['Aliases for A', 'Aliases for B'], inplace=True)"
   ]
  },
  {
   "cell_type": "code",
   "execution_count": 47,
   "metadata": {
    "collapsed": true
   },
   "outputs": [],
   "source": [
    "lst = []\n",
    "\n",
    "for pub in innatedb_df['Identifier of the publication']:\n",
    "    pub = str(pub)\n",
    "    pub = pub.split(':')[1]\n",
    "    lst.append(pub)\n",
    "innatedb_df['Identifier of the publication'] = lst"
   ]
  },
  {
   "cell_type": "code",
   "execution_count": 48,
   "metadata": {
    "collapsed": false
   },
   "outputs": [
    {
     "data": {
      "text/plain": [
       "(4754, 4)"
      ]
     },
     "execution_count": 48,
     "metadata": {},
     "output_type": "execute_result"
    }
   ],
   "source": [
    "innatedb_df.shape"
   ]
  },
  {
   "cell_type": "code",
   "execution_count": 49,
   "metadata": {
    "collapsed": false
   },
   "outputs": [],
   "source": [
    "lst = []\n",
    "for value in innatedb_df['Identifier of the publication']:\n",
    "    if 'unassigned' in value:\n",
    "        lst.append(True)\n",
    "    else:\n",
    "        lst.append(False)\n",
    "\n",
    "innatedb_df = innatedb_df.drop(innatedb_df[lst].index)"
   ]
  },
  {
   "cell_type": "code",
   "execution_count": 50,
   "metadata": {
    "collapsed": true
   },
   "outputs": [],
   "source": [
    "innatedb_df.dropna(inplace=True)"
   ]
  },
  {
   "cell_type": "code",
   "execution_count": 65,
   "metadata": {
    "collapsed": true
   },
   "outputs": [],
   "source": [
    "innatedb_df.to_csv('/Users/moshesilverstein/Desktop/PPI Library/IntProc/innatedb_human.csv', sep='\\t')"
   ]
  },
  {
   "cell_type": "markdown",
   "metadata": {
    "collapsed": false
   },
   "source": [
    "## DIP DATA"
   ]
  },
  {
   "cell_type": "code",
   "execution_count": 66,
   "metadata": {
    "collapsed": false
   },
   "outputs": [],
   "source": [
    "dip_df = pd.read_csv('/Users/moshesilverstein/Desktop/PPI Library/Input/dip20160731.txt', sep='\\t', index_col=False)"
   ]
  },
  {
   "cell_type": "code",
   "execution_count": 67,
   "metadata": {
    "collapsed": true
   },
   "outputs": [],
   "source": [
    "# get only human (or mouse) data\n",
    "n = dip_df['Taxid interactor A'].values\n",
    "b = [i for i,item in enumerate(n) if \"Homo sapiens\" in item]\n",
    "dip_df = dip_df.ix[b]"
   ]
  },
  {
   "cell_type": "code",
   "execution_count": 68,
   "metadata": {
    "collapsed": true
   },
   "outputs": [],
   "source": [
    "dip_df =  dip_df.reset_index().drop('index', axis=1)\n",
    "\n",
    "# get only human (or mouse) data\n",
    "n = dip_df['Taxid interactor B'].values\n",
    "b = [i for i,item in enumerate(n) if \"Homo sapiens\" in item]\n",
    "dip_df = dip_df.ix[b]"
   ]
  },
  {
   "cell_type": "code",
   "execution_count": 69,
   "metadata": {
    "collapsed": false
   },
   "outputs": [
    {
     "name": "stdout",
     "output_type": "stream",
     "text": [
      " 3300 Out of 3281 "
     ]
    }
   ],
   "source": [
    "# drop any data that was published with more then 10 PPI's per publication\n",
    "i = 1\n",
    "for pub in dip_df['Publication Identifier(s)'].unique():\n",
    "    if i % 100 == 0:\n",
    "        print('\\r', str(i)+' Out of '+ str(len(dip_df['Publication Identifier(s)'].unique())), end=' ', flush=True)\n",
    "    if dip_df[dip_df['Publication Identifier(s)'] == pub].shape[0] > 10:\n",
    "        dip_df.drop(dip_df[dip_df['Publication Identifier(s)'] == pub].index.tolist(), inplace=True)\n",
    "    i +=1"
   ]
  },
  {
   "cell_type": "code",
   "execution_count": 70,
   "metadata": {
    "collapsed": true
   },
   "outputs": [],
   "source": [
    "dip_df = dip_df[['ID interactor A', 'ID interactor B', 'Publication Identifier(s)', 'Source database(s)']]"
   ]
  },
  {
   "cell_type": "code",
   "execution_count": 71,
   "metadata": {
    "collapsed": true
   },
   "outputs": [],
   "source": [
    "dip_df.rename(columns={'ID interactor A': 'Aliases for A', 'ID interactor B':'Aliases for B', 'Publication Identifier(s)':'Identifier of the publication', 'Source database(s)':'Source databases'}, inplace=True)"
   ]
  },
  {
   "cell_type": "markdown",
   "metadata": {},
   "source": [
    "#### mapping table to convert labels from uniprot to ncbi names"
   ]
  },
  {
   "cell_type": "code",
   "execution_count": 72,
   "metadata": {
    "collapsed": false
   },
   "outputs": [],
   "source": [
    "mapping_df = pd.read_csv('/Users/moshesilverstein/Desktop/PPI Library/Doc and Mapping/HUMAN_9606_idmapping.dat', sep='\\t', index_col=False, names=['UniProtKB-AC', 'ID_type', 'ID'])"
   ]
  },
  {
   "cell_type": "code",
   "execution_count": 73,
   "metadata": {
    "collapsed": true
   },
   "outputs": [],
   "source": [
    "mapping_df = mapping_df[mapping_df['ID_type']=='Gene_Name']"
   ]
  },
  {
   "cell_type": "code",
   "execution_count": 74,
   "metadata": {
    "collapsed": true
   },
   "outputs": [],
   "source": [
    "mapping_df.set_index('UniProtKB-AC', inplace=True)"
   ]
  },
  {
   "cell_type": "code",
   "execution_count": 75,
   "metadata": {
    "collapsed": false
   },
   "outputs": [],
   "source": [
    "mapping_df = mapping_df[~mapping_df.index.duplicated(keep='first')]"
   ]
  },
  {
   "cell_type": "code",
   "execution_count": 76,
   "metadata": {
    "collapsed": false
   },
   "outputs": [],
   "source": [
    "# change column one to just show gene name\n",
    "for index in dip_df.index:\n",
    "    found = re.search('uniprotkb:......', dip_df.ix[index, 'Aliases for A'])\n",
    "    if found:\n",
    "        name = found.group(0).split(':')[1]\n",
    "        if name in mapping_df.index.values:\n",
    "            dip_df.ix[index, 'Aliases for A'] = mapping_df.ix[name, 'ID']\n",
    "        else:\n",
    "            dip_df.ix[index, 'Aliases for A'] = np.nan\n",
    "    else:\n",
    "        dip_df.ix[index, 'Aliases for A'] = np.nan"
   ]
  },
  {
   "cell_type": "code",
   "execution_count": 77,
   "metadata": {
    "collapsed": true
   },
   "outputs": [],
   "source": [
    "# change column two to just show gene name\n",
    "for index in dip_df.index:\n",
    "    found = re.search('uniprotkb:......', dip_df.ix[index, 'Aliases for B'])\n",
    "    if found:\n",
    "        name = found.group(0).split(':')[1]\n",
    "        if name in mapping_df.index.values:\n",
    "            dip_df.ix[index, 'Aliases for B'] = mapping_df.ix[name, 'ID']\n",
    "        else:\n",
    "            dip_df.ix[index, 'Aliases for B'] = np.nan\n",
    "    else:\n",
    "        dip_df.ix[index, 'Aliases for B'] = np.nan"
   ]
  },
  {
   "cell_type": "code",
   "execution_count": 78,
   "metadata": {
    "collapsed": false
   },
   "outputs": [],
   "source": [
    "dip_df.drop_duplicates(['Aliases for A', 'Aliases for B'], inplace=True)"
   ]
  },
  {
   "cell_type": "code",
   "execution_count": 79,
   "metadata": {
    "collapsed": false
   },
   "outputs": [],
   "source": [
    "lst = []\n",
    "\n",
    "for pub in dip_df['Identifier of the publication']:\n",
    "    pub = str(pub)\n",
    "    pub = pub.split('|')[0].split(':')[1]\n",
    "    lst.append(pub)\n",
    "dip_df['Identifier of the publication'] = lst"
   ]
  },
  {
   "cell_type": "code",
   "execution_count": 80,
   "metadata": {
    "collapsed": false
   },
   "outputs": [],
   "source": [
    "lst = []\n",
    "for value in dip_df['Identifier of the publication']:\n",
    "    if 'unassigned' in value:\n",
    "        lst.append(True)\n",
    "    else:\n",
    "        lst.append(False)\n",
    "\n",
    "dip_df = dip_df.drop(dip_df[lst].index)"
   ]
  },
  {
   "cell_type": "code",
   "execution_count": 81,
   "metadata": {
    "collapsed": true
   },
   "outputs": [],
   "source": [
    "dip_df.dropna(inplace=True)"
   ]
  },
  {
   "cell_type": "code",
   "execution_count": 82,
   "metadata": {
    "collapsed": false
   },
   "outputs": [
    {
     "data": {
      "text/html": [
       "<div>\n",
       "<table border=\"1\" class=\"dataframe\">\n",
       "  <thead>\n",
       "    <tr style=\"text-align: right;\">\n",
       "      <th></th>\n",
       "      <th>ID_type</th>\n",
       "      <th>ID</th>\n",
       "    </tr>\n",
       "    <tr>\n",
       "      <th>UniProtKB-AC</th>\n",
       "      <th></th>\n",
       "      <th></th>\n",
       "    </tr>\n",
       "  </thead>\n",
       "  <tbody>\n",
       "    <tr>\n",
       "      <th>P31946</th>\n",
       "      <td>Gene_Name</td>\n",
       "      <td>YWHAB</td>\n",
       "    </tr>\n",
       "    <tr>\n",
       "      <th>P62258</th>\n",
       "      <td>Gene_Name</td>\n",
       "      <td>YWHAE</td>\n",
       "    </tr>\n",
       "    <tr>\n",
       "      <th>Q04917</th>\n",
       "      <td>Gene_Name</td>\n",
       "      <td>YWHAH</td>\n",
       "    </tr>\n",
       "    <tr>\n",
       "      <th>P61981</th>\n",
       "      <td>Gene_Name</td>\n",
       "      <td>YWHAG</td>\n",
       "    </tr>\n",
       "    <tr>\n",
       "      <th>P31947</th>\n",
       "      <td>Gene_Name</td>\n",
       "      <td>SFN</td>\n",
       "    </tr>\n",
       "  </tbody>\n",
       "</table>\n",
       "</div>"
      ],
      "text/latex": [
       "\\centering{\\begin{tabular}{lll}\n",
       "\\toprule\n",
       "{} &    ID\\_type &     ID \\\\\n",
       "UniProtKB-AC &            &        \\\\\n",
       "\\midrule\n",
       "P31946       &  Gene\\_Name &  YWHAB \\\\\n",
       "P62258       &  Gene\\_Name &  YWHAE \\\\\n",
       "Q04917       &  Gene\\_Name &  YWHAH \\\\\n",
       "P61981       &  Gene\\_Name &  YWHAG \\\\\n",
       "P31947       &  Gene\\_Name &    SFN \\\\\n",
       "\\bottomrule\n",
       "\\end{tabular}\n",
       "}"
      ],
      "text/plain": [
       "                ID_type     ID\n",
       "UniProtKB-AC                  \n",
       "P31946        Gene_Name  YWHAB\n",
       "P62258        Gene_Name  YWHAE\n",
       "Q04917        Gene_Name  YWHAH\n",
       "P61981        Gene_Name  YWHAG\n",
       "P31947        Gene_Name    SFN"
      ]
     },
     "execution_count": 82,
     "metadata": {},
     "output_type": "execute_result"
    }
   ],
   "source": [
    "mapping_df.head()"
   ]
  },
  {
   "cell_type": "code",
   "execution_count": 83,
   "metadata": {
    "collapsed": true
   },
   "outputs": [],
   "source": [
    "dip_df.to_csv('/Users/moshesilverstein/Desktop/PPI Library/IntProc/dip_human.csv', sep='\\t')"
   ]
  },
  {
   "cell_type": "markdown",
   "metadata": {},
   "source": [
    "## mentha data"
   ]
  },
  {
   "cell_type": "code",
   "execution_count": 84,
   "metadata": {
    "collapsed": true
   },
   "outputs": [],
   "source": [
    "mentha_df = pd.read_csv('/Users/moshesilverstein/Desktop/PPI Library/Input/mentha_human', sep=';')"
   ]
  },
  {
   "cell_type": "code",
   "execution_count": 85,
   "metadata": {
    "collapsed": false
   },
   "outputs": [],
   "source": [
    "mentha_df = mentha_df[['Gene A', 'Gene B', 'PMID']]"
   ]
  },
  {
   "cell_type": "code",
   "execution_count": 86,
   "metadata": {
    "collapsed": false
   },
   "outputs": [],
   "source": [
    "mentha_df['Source databases'] = '(mentha)'"
   ]
  },
  {
   "cell_type": "code",
   "execution_count": 87,
   "metadata": {
    "collapsed": true
   },
   "outputs": [],
   "source": [
    "mentha_df.rename(columns={'Gene A': 'Aliases for A', 'Gene B':'Aliases for B', 'PMID':'Identifier of the publication'}, inplace=True)"
   ]
  },
  {
   "cell_type": "code",
   "execution_count": 88,
   "metadata": {
    "collapsed": false
   },
   "outputs": [
    {
     "name": "stdout",
     "output_type": "stream",
     "text": [
      " 32800 Out of 31989 "
     ]
    }
   ],
   "source": [
    "# drop any data that was published with more then 10 PPI's per publication\n",
    "i = 1\n",
    "for pub in mentha_df['Identifier of the publication'].unique():\n",
    "    if i % 100 == 0:\n",
    "        print('\\r', str(i)+' Out of '+ str(len(mentha_df['Identifier of the publication'].unique())), end=' ', flush=True)\n",
    "    if mentha_df[mentha_df['Identifier of the publication'] == pub].shape[0] > 10:\n",
    "        mentha_df.drop(mentha_df[mentha_df['Identifier of the publication'] == pub].index.tolist(), inplace=True)\n",
    "    i +=1"
   ]
  },
  {
   "cell_type": "code",
   "execution_count": 89,
   "metadata": {
    "collapsed": false
   },
   "outputs": [],
   "source": [
    "lst = []\n",
    "for value in mentha_df['Identifier of the publication']:\n",
    "    if 'unassigned' in value:\n",
    "        lst.append(True)\n",
    "    else:\n",
    "        lst.append(False)\n",
    "\n",
    "mentha_df = mentha_df.drop(mentha_df[lst].index)"
   ]
  },
  {
   "cell_type": "code",
   "execution_count": 90,
   "metadata": {
    "collapsed": false
   },
   "outputs": [
    {
     "name": "stdout",
     "output_type": "stream",
     "text": [
      " 49300 Out of 49300 "
     ]
    }
   ],
   "source": [
    "i = 1\n",
    "for index in mentha_df.index:\n",
    "    if i % 100 == 0:\n",
    "        print('\\r', str(i)+' Out of '+ str(len(mentha_df.index)), end=' ', flush=True)\n",
    "    mentha_df.ix[index, 'Identifier of the publication'] = '|'.join(mentha_df.ix[index, 'Identifier of the publication'].split(' ')[0:-1])\n",
    "    i +=1"
   ]
  },
  {
   "cell_type": "code",
   "execution_count": 91,
   "metadata": {
    "collapsed": false
   },
   "outputs": [],
   "source": [
    "mentha_df.dropna(inplace=True)"
   ]
  },
  {
   "cell_type": "code",
   "execution_count": 92,
   "metadata": {
    "collapsed": false
   },
   "outputs": [
    {
     "data": {
      "text/plain": [
       "(49300, 4)"
      ]
     },
     "execution_count": 92,
     "metadata": {},
     "output_type": "execute_result"
    }
   ],
   "source": [
    "mentha_df.shape"
   ]
  },
  {
   "cell_type": "code",
   "execution_count": 93,
   "metadata": {
    "collapsed": false
   },
   "outputs": [
    {
     "data": {
      "text/html": [
       "<div>\n",
       "<table border=\"1\" class=\"dataframe\">\n",
       "  <thead>\n",
       "    <tr style=\"text-align: right;\">\n",
       "      <th></th>\n",
       "      <th>Aliases for A</th>\n",
       "      <th>Aliases for B</th>\n",
       "      <th>Identifier of the publication</th>\n",
       "      <th>Source databases</th>\n",
       "    </tr>\n",
       "  </thead>\n",
       "  <tbody>\n",
       "    <tr>\n",
       "      <th>31</th>\n",
       "      <td>MYO10</td>\n",
       "      <td>TUBB2B</td>\n",
       "      <td>21642953</td>\n",
       "      <td>(mentha)</td>\n",
       "    </tr>\n",
       "    <tr>\n",
       "      <th>34</th>\n",
       "      <td>HDAC6</td>\n",
       "      <td>TUBB2B</td>\n",
       "      <td>12606581</td>\n",
       "      <td>(mentha)</td>\n",
       "    </tr>\n",
       "    <tr>\n",
       "      <th>36</th>\n",
       "      <td>ABCB5</td>\n",
       "      <td>PSMB9</td>\n",
       "      <td>15488952</td>\n",
       "      <td>(mentha)</td>\n",
       "    </tr>\n",
       "    <tr>\n",
       "      <th>38</th>\n",
       "      <td>DSCC1</td>\n",
       "      <td>CHTF8</td>\n",
       "      <td>12766176|26186194</td>\n",
       "      <td>(mentha)</td>\n",
       "    </tr>\n",
       "    <tr>\n",
       "      <th>39</th>\n",
       "      <td>DSCC1</td>\n",
       "      <td>CHTF8</td>\n",
       "      <td>12766176|26186194</td>\n",
       "      <td>(mentha)</td>\n",
       "    </tr>\n",
       "  </tbody>\n",
       "</table>\n",
       "</div>"
      ],
      "text/latex": [
       "\\centering{\\begin{tabular}{lllll}\n",
       "\\toprule\n",
       "{} & Aliases for A & Aliases for B & Identifier of the publication & Source databases \\\\\n",
       "\\midrule\n",
       "31 &         MYO10 &        TUBB2B &                      21642953 &         (mentha) \\\\\n",
       "34 &         HDAC6 &        TUBB2B &                      12606581 &         (mentha) \\\\\n",
       "36 &         ABCB5 &         PSMB9 &                      15488952 &         (mentha) \\\\\n",
       "38 &         DSCC1 &         CHTF8 &             12766176|26186194 &         (mentha) \\\\\n",
       "39 &         DSCC1 &         CHTF8 &             12766176|26186194 &         (mentha) \\\\\n",
       "\\bottomrule\n",
       "\\end{tabular}\n",
       "}"
      ],
      "text/plain": [
       "   Aliases for A Aliases for B Identifier of the publication Source databases\n",
       "31         MYO10        TUBB2B                      21642953         (mentha)\n",
       "34         HDAC6        TUBB2B                      12606581         (mentha)\n",
       "36         ABCB5         PSMB9                      15488952         (mentha)\n",
       "38         DSCC1         CHTF8             12766176|26186194         (mentha)\n",
       "39         DSCC1         CHTF8             12766176|26186194         (mentha)"
      ]
     },
     "execution_count": 93,
     "metadata": {},
     "output_type": "execute_result"
    }
   ],
   "source": [
    "mentha_df.head()"
   ]
  },
  {
   "cell_type": "code",
   "execution_count": 94,
   "metadata": {
    "collapsed": false
   },
   "outputs": [],
   "source": [
    "mentha_df.to_csv('/Users/moshesilverstein/Desktop/PPI Library/IntProc/mentha_human.csv', sep='\\t')"
   ]
  },
  {
   "cell_type": "markdown",
   "metadata": {},
   "source": [
    "## IntAct Data "
   ]
  },
  {
   "cell_type": "code",
   "execution_count": 95,
   "metadata": {
    "collapsed": false
   },
   "outputs": [
    {
     "name": "stderr",
     "output_type": "stream",
     "text": [
      "/Users/moshesilverstein/anaconda/lib/python3.5/site-packages/IPython/core/interactiveshell.py:2717: DtypeWarning: Columns (38,39) have mixed types. Specify dtype option on import or set low_memory=False.\n",
      "  interactivity=interactivity, compiler=compiler, result=result)\n"
     ]
    }
   ],
   "source": [
    "intact_df = pd.read_csv('/Users/moshesilverstein/Desktop/PPI Library/Input/intact.txt', sep='\\t')"
   ]
  },
  {
   "cell_type": "code",
   "execution_count": null,
   "metadata": {
    "collapsed": true
   },
   "outputs": [],
   "source": [
    "#intact_negative_df = pd.read_csv('intact_negative.txt', sep='\\t')"
   ]
  },
  {
   "cell_type": "code",
   "execution_count": null,
   "metadata": {
    "collapsed": false
   },
   "outputs": [],
   "source": [
    "#intact_df = pd.concat([intact_df, intact_negative_df])"
   ]
  },
  {
   "cell_type": "code",
   "execution_count": 96,
   "metadata": {
    "collapsed": true
   },
   "outputs": [],
   "source": [
    "# get only human (or mouse) data\n",
    "n = intact_df['Taxid interactor A'].values\n",
    "b = [i for i,item in enumerate(n) if \"human\" in item]\n",
    "intact_df = intact_df.ix[b]"
   ]
  },
  {
   "cell_type": "code",
   "execution_count": 97,
   "metadata": {
    "collapsed": false
   },
   "outputs": [],
   "source": [
    "intact_df =  intact_df.reset_index().drop('index', axis=1)\n",
    "\n",
    "# get only human (or mouse) data\n",
    "n = intact_df['Taxid interactor B'].values\n",
    "b = [i for i,item in enumerate(n) if \"human\" in item]\n",
    "intact_df = intact_df.ix[b]"
   ]
  },
  {
   "cell_type": "code",
   "execution_count": null,
   "metadata": {
    "collapsed": false
   },
   "outputs": [],
   "source": [
    "#intact_df.ix[0, 'Taxid interactor B']"
   ]
  },
  {
   "cell_type": "code",
   "execution_count": 98,
   "metadata": {
    "collapsed": false
   },
   "outputs": [
    {
     "name": "stdout",
     "output_type": "stream",
     "text": [
      " 6800 Out of 5462 "
     ]
    }
   ],
   "source": [
    "# drop any data that was published with more then 10 PPI's per publication\n",
    "i = 1\n",
    "for pub in intact_df['Publication Identifier(s)'].unique():\n",
    "    if i % 100 == 0:\n",
    "        print('\\r', str(i)+' Out of '+ str(len(intact_df['Publication Identifier(s)'].unique())), end=' ', flush=True)\n",
    "    if intact_df[intact_df['Publication Identifier(s)'] == pub].shape[0] > 10:\n",
    "        intact_df.drop(intact_df[intact_df['Publication Identifier(s)'] == pub].index.tolist(), inplace=True)\n",
    "    i +=1\n"
   ]
  },
  {
   "cell_type": "code",
   "execution_count": 99,
   "metadata": {
    "collapsed": false
   },
   "outputs": [],
   "source": [
    "intact_df = intact_df[['Alias(es) interactor A', 'Alias(es) interactor B', 'Publication Identifier(s)', 'Source database(s)']]"
   ]
  },
  {
   "cell_type": "code",
   "execution_count": 100,
   "metadata": {
    "collapsed": false
   },
   "outputs": [],
   "source": [
    "intact_df.rename(columns={'Alias(es) interactor A': 'Aliases for A', 'Alias(es) interactor B':'Aliases for B', 'Publication Identifier(s)':'Identifier of the publication', 'Source database(s)':'Source databases'}, inplace=True)"
   ]
  },
  {
   "cell_type": "code",
   "execution_count": 101,
   "metadata": {
    "collapsed": false
   },
   "outputs": [],
   "source": [
    "# change column one to just show gene name\n",
    "#i = 1\n",
    "lst = []\n",
    "for name in intact_df['Aliases for A']:\n",
    "    #print('\\r', i, end=' ', flush=True)\n",
    "    name = str(name)\n",
    "    if '(gene name)' in name:\n",
    "        temp = name.split('|')\n",
    "        for ID in temp:\n",
    "            if '(gene name)' in ID:\n",
    "                lst.append(ID.split(':')[1].split('(')[0])\n",
    "                break\n",
    "\n",
    "    else:\n",
    "        lst.append(np.nan)\n",
    "    \n",
    "    #i += 1\n",
    "intact_df['Aliases for A'] = lst"
   ]
  },
  {
   "cell_type": "code",
   "execution_count": 102,
   "metadata": {
    "collapsed": true
   },
   "outputs": [],
   "source": [
    "# change column two to just show gene name\n",
    "#i = 1\n",
    "lst = []\n",
    "for name in intact_df['Aliases for B']:\n",
    "    #print('\\r', i, end=' ', flush=True)\n",
    "    name = str(name)\n",
    "    if '(gene name)' in name:\n",
    "        temp = name.split('|')\n",
    "        for ID in temp:\n",
    "            if '(gene name)' in ID:\n",
    "                lst.append(ID.split(':')[1].split('(')[0])\n",
    "                break\n",
    "\n",
    "    else:\n",
    "        lst.append(np.nan)\n",
    "    \n",
    "    #i += 1\n",
    "intact_df['Aliases for B'] = lst"
   ]
  },
  {
   "cell_type": "code",
   "execution_count": 103,
   "metadata": {
    "collapsed": true
   },
   "outputs": [],
   "source": [
    "# drop data for which no gene name is provited (or ensamble ID)\n",
    "intact_df.dropna(how='any', inplace=True, axis=0)"
   ]
  },
  {
   "cell_type": "code",
   "execution_count": 104,
   "metadata": {
    "collapsed": true
   },
   "outputs": [],
   "source": [
    "intact_df.drop_duplicates(['Aliases for A', 'Aliases for B'], inplace=True)"
   ]
  },
  {
   "cell_type": "code",
   "execution_count": 105,
   "metadata": {
    "collapsed": false
   },
   "outputs": [],
   "source": [
    "lst = []\n",
    "\n",
    "for pub in intact_df['Identifier of the publication']:\n",
    "    pub = str(pub)\n",
    "    pub = pub.split('|')\n",
    "    for p in pub:\n",
    "        if 'pubmed' in p:\n",
    "            pub = p.split(':')[1]\n",
    "    lst.append(pub)\n",
    "intact_df['Identifier of the publication'] = lst"
   ]
  },
  {
   "cell_type": "code",
   "execution_count": 106,
   "metadata": {
    "collapsed": false
   },
   "outputs": [
    {
     "data": {
      "text/plain": [
       "(10998, 4)"
      ]
     },
     "execution_count": 106,
     "metadata": {},
     "output_type": "execute_result"
    }
   ],
   "source": [
    "intact_df.shape"
   ]
  },
  {
   "cell_type": "code",
   "execution_count": 107,
   "metadata": {
    "collapsed": false
   },
   "outputs": [],
   "source": [
    "lst = []\n",
    "for value in intact_df['Identifier of the publication']:\n",
    "    if 'unassigned' in value:\n",
    "        lst.append(True)\n",
    "    else:\n",
    "        lst.append(False)\n",
    "\n",
    "intact_df = intact_df.drop(intact_df[lst].index)"
   ]
  },
  {
   "cell_type": "code",
   "execution_count": 108,
   "metadata": {
    "collapsed": true
   },
   "outputs": [],
   "source": [
    "intact_df.dropna(inplace=True)"
   ]
  },
  {
   "cell_type": "code",
   "execution_count": 109,
   "metadata": {
    "collapsed": false
   },
   "outputs": [
    {
     "data": {
      "text/html": [
       "<div>\n",
       "<table border=\"1\" class=\"dataframe\">\n",
       "  <thead>\n",
       "    <tr style=\"text-align: right;\">\n",
       "      <th></th>\n",
       "      <th>Aliases for A</th>\n",
       "      <th>Aliases for B</th>\n",
       "      <th>Identifier of the publication</th>\n",
       "      <th>Source databases</th>\n",
       "    </tr>\n",
       "  </thead>\n",
       "  <tbody>\n",
       "    <tr>\n",
       "      <th>22</th>\n",
       "      <td>FHL3</td>\n",
       "      <td>FHL2</td>\n",
       "      <td>11135358</td>\n",
       "      <td>psi-mi:\"MI:0471\"(MINT)</td>\n",
       "    </tr>\n",
       "    <tr>\n",
       "      <th>24</th>\n",
       "      <td>EPS15</td>\n",
       "      <td>EPS15</td>\n",
       "      <td>9182572</td>\n",
       "      <td>psi-mi:\"MI:0471\"(MINT)</td>\n",
       "    </tr>\n",
       "    <tr>\n",
       "      <th>27</th>\n",
       "      <td>MCM7</td>\n",
       "      <td>FHL2</td>\n",
       "      <td>10649446</td>\n",
       "      <td>psi-mi:\"MI:0471\"(MINT)</td>\n",
       "    </tr>\n",
       "    <tr>\n",
       "      <th>28</th>\n",
       "      <td>AR</td>\n",
       "      <td>FHL2</td>\n",
       "      <td>10654935</td>\n",
       "      <td>psi-mi:\"MI:0471\"(MINT)</td>\n",
       "    </tr>\n",
       "    <tr>\n",
       "      <th>30</th>\n",
       "      <td>SOS1</td>\n",
       "      <td>ABI1</td>\n",
       "      <td>10499589</td>\n",
       "      <td>psi-mi:\"MI:0471\"(MINT)</td>\n",
       "    </tr>\n",
       "  </tbody>\n",
       "</table>\n",
       "</div>"
      ],
      "text/latex": [
       "\\centering{\\begin{tabular}{lllll}\n",
       "\\toprule\n",
       "{} & Aliases for A & Aliases for B & Identifier of the publication &        Source databases \\\\\n",
       "\\midrule\n",
       "22 &          FHL3 &          FHL2 &                      11135358 &  psi-mi:\"MI:0471\"(MINT) \\\\\n",
       "24 &         EPS15 &         EPS15 &                       9182572 &  psi-mi:\"MI:0471\"(MINT) \\\\\n",
       "27 &          MCM7 &          FHL2 &                      10649446 &  psi-mi:\"MI:0471\"(MINT) \\\\\n",
       "28 &            AR &          FHL2 &                      10654935 &  psi-mi:\"MI:0471\"(MINT) \\\\\n",
       "30 &          SOS1 &          ABI1 &                      10499589 &  psi-mi:\"MI:0471\"(MINT) \\\\\n",
       "\\bottomrule\n",
       "\\end{tabular}\n",
       "}"
      ],
      "text/plain": [
       "   Aliases for A Aliases for B Identifier of the publication  \\\n",
       "22          FHL3          FHL2                      11135358   \n",
       "24         EPS15         EPS15                       9182572   \n",
       "27          MCM7          FHL2                      10649446   \n",
       "28            AR          FHL2                      10654935   \n",
       "30          SOS1          ABI1                      10499589   \n",
       "\n",
       "          Source databases  \n",
       "22  psi-mi:\"MI:0471\"(MINT)  \n",
       "24  psi-mi:\"MI:0471\"(MINT)  \n",
       "27  psi-mi:\"MI:0471\"(MINT)  \n",
       "28  psi-mi:\"MI:0471\"(MINT)  \n",
       "30  psi-mi:\"MI:0471\"(MINT)  "
      ]
     },
     "execution_count": 109,
     "metadata": {},
     "output_type": "execute_result"
    }
   ],
   "source": [
    "intact_df.head()"
   ]
  },
  {
   "cell_type": "code",
   "execution_count": null,
   "metadata": {
    "collapsed": false
   },
   "outputs": [],
   "source": [
    "#intact_negative_df.head()"
   ]
  },
  {
   "cell_type": "code",
   "execution_count": null,
   "metadata": {
    "collapsed": false
   },
   "outputs": [],
   "source": [
    "# Alt. ID(s) interactor A\n",
    "#intact_df.ix[22, 'Aliases for A']"
   ]
  },
  {
   "cell_type": "code",
   "execution_count": 110,
   "metadata": {
    "collapsed": true
   },
   "outputs": [],
   "source": [
    "intact_df.to_csv('/Users/moshesilverstein/Desktop/PPI Library/IntProc/intact_human.csv', sep='\\t')"
   ]
  },
  {
   "cell_type": "markdown",
   "metadata": {
    "collapsed": true
   },
   "source": [
    "## SAVI Data"
   ]
  },
  {
   "cell_type": "code",
   "execution_count": 111,
   "metadata": {
    "collapsed": true
   },
   "outputs": [],
   "source": [
    "savi_df = pd.read_csv('/Users/moshesilverstein/Desktop/PPI Library/Input/SNAVI.sig', sep=' ', header=None)"
   ]
  },
  {
   "cell_type": "code",
   "execution_count": 112,
   "metadata": {
    "collapsed": false
   },
   "outputs": [
    {
     "data": {
      "text/html": [
       "<div>\n",
       "<table border=\"1\" class=\"dataframe\">\n",
       "  <thead>\n",
       "    <tr style=\"text-align: right;\">\n",
       "      <th></th>\n",
       "      <th>0</th>\n",
       "      <th>1</th>\n",
       "      <th>2</th>\n",
       "      <th>3</th>\n",
       "      <th>4</th>\n",
       "      <th>5</th>\n",
       "      <th>6</th>\n",
       "      <th>7</th>\n",
       "      <th>8</th>\n",
       "      <th>9</th>\n",
       "      <th>10</th>\n",
       "      <th>11</th>\n",
       "      <th>12</th>\n",
       "    </tr>\n",
       "  </thead>\n",
       "  <tbody>\n",
       "    <tr>\n",
       "      <th>0</th>\n",
       "      <td>SYNGAP1</td>\n",
       "      <td>Q96PV0</td>\n",
       "      <td>NaN</td>\n",
       "      <td>GEF</td>\n",
       "      <td>Cytosol</td>\n",
       "      <td>RAP1A</td>\n",
       "      <td>P62834</td>\n",
       "      <td>P62835</td>\n",
       "      <td>GTPase</td>\n",
       "      <td>Cytosol</td>\n",
       "      <td>_</td>\n",
       "      <td>GAP</td>\n",
       "      <td>15312654</td>\n",
       "    </tr>\n",
       "    <tr>\n",
       "      <th>1</th>\n",
       "      <td>GSK3A</td>\n",
       "      <td>P49840</td>\n",
       "      <td>NaN</td>\n",
       "      <td>Kinase</td>\n",
       "      <td>Cytosol</td>\n",
       "      <td>JUN</td>\n",
       "      <td>P05412</td>\n",
       "      <td>P05627</td>\n",
       "      <td>TF</td>\n",
       "      <td>Nucleus</td>\n",
       "      <td>_</td>\n",
       "      <td>Phosphorylation</td>\n",
       "      <td>16023596</td>\n",
       "    </tr>\n",
       "    <tr>\n",
       "      <th>2</th>\n",
       "      <td>GSK3A</td>\n",
       "      <td>P49840</td>\n",
       "      <td>NaN</td>\n",
       "      <td>Kinase</td>\n",
       "      <td>Cytosol</td>\n",
       "      <td>JUN</td>\n",
       "      <td>P05412</td>\n",
       "      <td>P05627</td>\n",
       "      <td>TF</td>\n",
       "      <td>Nucleus</td>\n",
       "      <td>_</td>\n",
       "      <td>Phosphorylation</td>\n",
       "      <td>1846781</td>\n",
       "    </tr>\n",
       "    <tr>\n",
       "      <th>3</th>\n",
       "      <td>RIPK1</td>\n",
       "      <td>Q13546</td>\n",
       "      <td>Q60855</td>\n",
       "      <td>Kinase</td>\n",
       "      <td>Cytosol</td>\n",
       "      <td>SQSTM1</td>\n",
       "      <td>Q13501</td>\n",
       "      <td>Q64337</td>\n",
       "      <td>Adapter</td>\n",
       "      <td>Cytosol</td>\n",
       "      <td>+</td>\n",
       "      <td>Binding</td>\n",
       "      <td>10356400</td>\n",
       "    </tr>\n",
       "    <tr>\n",
       "      <th>4</th>\n",
       "      <td>CAMK2A</td>\n",
       "      <td>Q9UQM7</td>\n",
       "      <td>P11798</td>\n",
       "      <td>Kinase</td>\n",
       "      <td>Cytosol</td>\n",
       "      <td>MAP2</td>\n",
       "      <td>P11137</td>\n",
       "      <td>P20357</td>\n",
       "      <td>Cytoskeleton</td>\n",
       "      <td>Cytosol</td>\n",
       "      <td>+</td>\n",
       "      <td>Phosphorylation</td>\n",
       "      <td>7890745</td>\n",
       "    </tr>\n",
       "  </tbody>\n",
       "</table>\n",
       "</div>"
      ],
      "text/latex": [
       "\\centering{\\begin{tabular}{lllllllllllllr}\n",
       "\\toprule\n",
       "{} &       0  &      1  &      2  &      3  &       4  &      5  &      6  &      7  &            8  &       9  & 10 &               11 &        12 \\\\\n",
       "\\midrule\n",
       "0 &  SYNGAP1 &  Q96PV0 &     NaN &     GEF &  Cytosol &   RAP1A &  P62834 &  P62835 &        GTPase &  Cytosol &  \\_ &              GAP &  15312654 \\\\\n",
       "1 &    GSK3A &  P49840 &     NaN &  Kinase &  Cytosol &     JUN &  P05412 &  P05627 &            TF &  Nucleus &  \\_ &  Phosphorylation &  16023596 \\\\\n",
       "2 &    GSK3A &  P49840 &     NaN &  Kinase &  Cytosol &     JUN &  P05412 &  P05627 &            TF &  Nucleus &  \\_ &  Phosphorylation &   1846781 \\\\\n",
       "3 &    RIPK1 &  Q13546 &  Q60855 &  Kinase &  Cytosol &  SQSTM1 &  Q13501 &  Q64337 &       Adapter &  Cytosol &  + &          Binding &  10356400 \\\\\n",
       "4 &   CAMK2A &  Q9UQM7 &  P11798 &  Kinase &  Cytosol &    MAP2 &  P11137 &  P20357 &  Cytoskeleton &  Cytosol &  + &  Phosphorylation &   7890745 \\\\\n",
       "\\bottomrule\n",
       "\\end{tabular}\n",
       "}"
      ],
      "text/plain": [
       "        0       1       2       3        4       5       6       7   \\\n",
       "0  SYNGAP1  Q96PV0     NaN     GEF  Cytosol   RAP1A  P62834  P62835   \n",
       "1    GSK3A  P49840     NaN  Kinase  Cytosol     JUN  P05412  P05627   \n",
       "2    GSK3A  P49840     NaN  Kinase  Cytosol     JUN  P05412  P05627   \n",
       "3    RIPK1  Q13546  Q60855  Kinase  Cytosol  SQSTM1  Q13501  Q64337   \n",
       "4   CAMK2A  Q9UQM7  P11798  Kinase  Cytosol    MAP2  P11137  P20357   \n",
       "\n",
       "             8        9  10               11        12  \n",
       "0        GTPase  Cytosol  _              GAP  15312654  \n",
       "1            TF  Nucleus  _  Phosphorylation  16023596  \n",
       "2            TF  Nucleus  _  Phosphorylation   1846781  \n",
       "3       Adapter  Cytosol  +          Binding  10356400  \n",
       "4  Cytoskeleton  Cytosol  +  Phosphorylation   7890745  "
      ]
     },
     "execution_count": 112,
     "metadata": {},
     "output_type": "execute_result"
    }
   ],
   "source": [
    "savi_df.head()"
   ]
  },
  {
   "cell_type": "code",
   "execution_count": 113,
   "metadata": {
    "collapsed": false
   },
   "outputs": [
    {
     "data": {
      "text/plain": [
       "(2007, 13)"
      ]
     },
     "execution_count": 113,
     "metadata": {},
     "output_type": "execute_result"
    }
   ],
   "source": [
    "savi_df.shape"
   ]
  },
  {
   "cell_type": "code",
   "execution_count": 114,
   "metadata": {
    "collapsed": false
   },
   "outputs": [],
   "source": [
    "savi_df = savi_df[[0,5,12]]\n",
    "savi_df.rename(columns={0:'Aliases for A',5:'Aliases for B',12:'Identifier of the publication'}, inplace=True)\n",
    "savi_df['Source databases'] = '(SAVI)'"
   ]
  },
  {
   "cell_type": "code",
   "execution_count": 115,
   "metadata": {
    "collapsed": false
   },
   "outputs": [
    {
     "data": {
      "text/html": [
       "<div>\n",
       "<table border=\"1\" class=\"dataframe\">\n",
       "  <thead>\n",
       "    <tr style=\"text-align: right;\">\n",
       "      <th></th>\n",
       "      <th>Aliases for A</th>\n",
       "      <th>Aliases for B</th>\n",
       "      <th>Identifier of the publication</th>\n",
       "      <th>Source databases</th>\n",
       "    </tr>\n",
       "  </thead>\n",
       "  <tbody>\n",
       "    <tr>\n",
       "      <th>0</th>\n",
       "      <td>SYNGAP1</td>\n",
       "      <td>RAP1A</td>\n",
       "      <td>15312654</td>\n",
       "      <td>(SAVI)</td>\n",
       "    </tr>\n",
       "    <tr>\n",
       "      <th>1</th>\n",
       "      <td>GSK3A</td>\n",
       "      <td>JUN</td>\n",
       "      <td>16023596</td>\n",
       "      <td>(SAVI)</td>\n",
       "    </tr>\n",
       "    <tr>\n",
       "      <th>2</th>\n",
       "      <td>GSK3A</td>\n",
       "      <td>JUN</td>\n",
       "      <td>1846781</td>\n",
       "      <td>(SAVI)</td>\n",
       "    </tr>\n",
       "    <tr>\n",
       "      <th>3</th>\n",
       "      <td>RIPK1</td>\n",
       "      <td>SQSTM1</td>\n",
       "      <td>10356400</td>\n",
       "      <td>(SAVI)</td>\n",
       "    </tr>\n",
       "    <tr>\n",
       "      <th>4</th>\n",
       "      <td>CAMK2A</td>\n",
       "      <td>MAP2</td>\n",
       "      <td>7890745</td>\n",
       "      <td>(SAVI)</td>\n",
       "    </tr>\n",
       "  </tbody>\n",
       "</table>\n",
       "</div>"
      ],
      "text/latex": [
       "\\centering{\\begin{tabular}{lllrl}\n",
       "\\toprule\n",
       "{} & Aliases for A & Aliases for B &  Identifier of the publication & Source databases \\\\\n",
       "\\midrule\n",
       "0 &       SYNGAP1 &         RAP1A &                       15312654 &           (SAVI) \\\\\n",
       "1 &         GSK3A &           JUN &                       16023596 &           (SAVI) \\\\\n",
       "2 &         GSK3A &           JUN &                        1846781 &           (SAVI) \\\\\n",
       "3 &         RIPK1 &        SQSTM1 &                       10356400 &           (SAVI) \\\\\n",
       "4 &        CAMK2A &          MAP2 &                        7890745 &           (SAVI) \\\\\n",
       "\\bottomrule\n",
       "\\end{tabular}\n",
       "}"
      ],
      "text/plain": [
       "  Aliases for A Aliases for B  Identifier of the publication Source databases\n",
       "0       SYNGAP1         RAP1A                       15312654           (SAVI)\n",
       "1         GSK3A           JUN                       16023596           (SAVI)\n",
       "2         GSK3A           JUN                        1846781           (SAVI)\n",
       "3         RIPK1        SQSTM1                       10356400           (SAVI)\n",
       "4        CAMK2A          MAP2                        7890745           (SAVI)"
      ]
     },
     "execution_count": 115,
     "metadata": {},
     "output_type": "execute_result"
    }
   ],
   "source": [
    "savi_df.head()"
   ]
  },
  {
   "cell_type": "code",
   "execution_count": 116,
   "metadata": {
    "collapsed": false
   },
   "outputs": [
    {
     "name": "stdout",
     "output_type": "stream",
     "text": [
      " 1200 Out of 1293 "
     ]
    }
   ],
   "source": [
    "# drop any data that was published with more then 10 PPI's per publication\n",
    "i = 1\n",
    "for pub in savi_df['Identifier of the publication'].unique():\n",
    "    if i % 100 == 0:\n",
    "        print('\\r', str(i)+' Out of '+ str(len(savi_df['Identifier of the publication'].unique())), end=' ', flush=True)\n",
    "    if savi_df[savi_df['Identifier of the publication'] == pub].shape[0] > 10:\n",
    "        savi_df.drop(savi_df[savi_df['Identifier of the publication'] == pub].index.tolist(), inplace=True)\n",
    "    i +=1\n"
   ]
  },
  {
   "cell_type": "code",
   "execution_count": 117,
   "metadata": {
    "collapsed": false
   },
   "outputs": [
    {
     "data": {
      "text/plain": [
       "(1948, 4)"
      ]
     },
     "execution_count": 117,
     "metadata": {},
     "output_type": "execute_result"
    }
   ],
   "source": [
    "savi_df.shape"
   ]
  },
  {
   "cell_type": "code",
   "execution_count": null,
   "metadata": {
    "collapsed": false
   },
   "outputs": [],
   "source": []
  },
  {
   "cell_type": "code",
   "execution_count": 118,
   "metadata": {
    "collapsed": false
   },
   "outputs": [
    {
     "name": "stdout",
     "output_type": "stream",
     "text": [
      " 1300 Out of 1378 "
     ]
    }
   ],
   "source": [
    "savi_df.reset_index(inplace=True)\n",
    "savi_df.drop('index', axis=1, inplace=True)\n",
    "oldSize = savi_df.shape\n",
    "newSize = 0\n",
    "while oldSize != newSize:\n",
    "    savi_df.reset_index(inplace=True)\n",
    "    savi_df.drop('index', axis=1, inplace=True)\n",
    "    # concattonate like terms and remove duplicates\n",
    "    i = 1\n",
    "    end = len(savi_df.index)-1\n",
    "    for index in savi_df.index:\n",
    "        if i % 100 == 0:\n",
    "            print('\\r', str(i)+' Out of '+ str(len(savi_df.index)), end=' ', flush=True)\n",
    "        if index in savi_df.index.values and index != end:\n",
    "            if savi_df.ix[index, 'Aliases for A'] == savi_df.ix[index+1, 'Aliases for A']:\n",
    "                if savi_df.ix[index, 'Aliases for B'] == savi_df.ix[index+1, 'Aliases for B']:\n",
    "                    savi_df.ix[index, 'Identifier of the publication'] = str(savi_df.ix[index, 'Identifier of the publication']) +'|'+str(savi_df.ix[index+1, 'Identifier of the publication'])\n",
    "                    savi_df.drop(index+1, axis=0, inplace=True)\n",
    "        i += 1\n",
    "    oldSize = newSize\n",
    "    newSize = savi_df.shape"
   ]
  },
  {
   "cell_type": "code",
   "execution_count": 119,
   "metadata": {
    "collapsed": false
   },
   "outputs": [
    {
     "data": {
      "text/plain": [
       "(1378, 4)"
      ]
     },
     "execution_count": 119,
     "metadata": {},
     "output_type": "execute_result"
    }
   ],
   "source": [
    "savi_df.shape"
   ]
  },
  {
   "cell_type": "code",
   "execution_count": 120,
   "metadata": {
    "collapsed": false
   },
   "outputs": [
    {
     "data": {
      "text/html": [
       "<div>\n",
       "<table border=\"1\" class=\"dataframe\">\n",
       "  <thead>\n",
       "    <tr style=\"text-align: right;\">\n",
       "      <th></th>\n",
       "      <th>Aliases for A</th>\n",
       "      <th>Aliases for B</th>\n",
       "      <th>Identifier of the publication</th>\n",
       "      <th>Source databases</th>\n",
       "    </tr>\n",
       "  </thead>\n",
       "  <tbody>\n",
       "    <tr>\n",
       "      <th>0</th>\n",
       "      <td>SYNGAP1</td>\n",
       "      <td>RAP1A</td>\n",
       "      <td>15312654</td>\n",
       "      <td>(SAVI)</td>\n",
       "    </tr>\n",
       "    <tr>\n",
       "      <th>1</th>\n",
       "      <td>GSK3A</td>\n",
       "      <td>JUN</td>\n",
       "      <td>16023596|1846781</td>\n",
       "      <td>(SAVI)</td>\n",
       "    </tr>\n",
       "    <tr>\n",
       "      <th>2</th>\n",
       "      <td>RIPK1</td>\n",
       "      <td>SQSTM1</td>\n",
       "      <td>10356400</td>\n",
       "      <td>(SAVI)</td>\n",
       "    </tr>\n",
       "    <tr>\n",
       "      <th>3</th>\n",
       "      <td>CAMK2A</td>\n",
       "      <td>MAP2</td>\n",
       "      <td>7890745|9341200|2561875</td>\n",
       "      <td>(SAVI)</td>\n",
       "    </tr>\n",
       "    <tr>\n",
       "      <th>4</th>\n",
       "      <td>ARRB1</td>\n",
       "      <td>ADRB2</td>\n",
       "      <td>11171997</td>\n",
       "      <td>(SAVI)</td>\n",
       "    </tr>\n",
       "  </tbody>\n",
       "</table>\n",
       "</div>"
      ],
      "text/latex": [
       "\\centering{\\begin{tabular}{lllll}\n",
       "\\toprule\n",
       "{} & Aliases for A & Aliases for B & Identifier of the publication & Source databases \\\\\n",
       "\\midrule\n",
       "0 &       SYNGAP1 &         RAP1A &                      15312654 &           (SAVI) \\\\\n",
       "1 &         GSK3A &           JUN &              16023596|1846781 &           (SAVI) \\\\\n",
       "2 &         RIPK1 &        SQSTM1 &                      10356400 &           (SAVI) \\\\\n",
       "3 &        CAMK2A &          MAP2 &       7890745|9341200|2561875 &           (SAVI) \\\\\n",
       "4 &         ARRB1 &         ADRB2 &                      11171997 &           (SAVI) \\\\\n",
       "\\bottomrule\n",
       "\\end{tabular}\n",
       "}"
      ],
      "text/plain": [
       "  Aliases for A Aliases for B Identifier of the publication Source databases\n",
       "0       SYNGAP1         RAP1A                      15312654           (SAVI)\n",
       "1         GSK3A           JUN              16023596|1846781           (SAVI)\n",
       "2         RIPK1        SQSTM1                      10356400           (SAVI)\n",
       "3        CAMK2A          MAP2       7890745|9341200|2561875           (SAVI)\n",
       "4         ARRB1         ADRB2                      11171997           (SAVI)"
      ]
     },
     "execution_count": 120,
     "metadata": {},
     "output_type": "execute_result"
    }
   ],
   "source": [
    "savi_df.head()"
   ]
  },
  {
   "cell_type": "code",
   "execution_count": 121,
   "metadata": {
    "collapsed": true
   },
   "outputs": [],
   "source": [
    "savi_df.to_csv('/Users/moshesilverstein/Desktop/PPI Library/IntProc/savi_human.csv', sep='\\t')"
   ]
  },
  {
   "cell_type": "markdown",
   "metadata": {},
   "source": [
    "## KEA Data"
   ]
  },
  {
   "cell_type": "code",
   "execution_count": 40,
   "metadata": {
    "collapsed": false
   },
   "outputs": [],
   "source": [
    "kea_df = pd.read_csv('/Users/moshesilverstein/Desktop/PPI Library/Input/KEA/kinase-protein_interactions.csv', sep=',', header=None)"
   ]
  },
  {
   "cell_type": "code",
   "execution_count": 41,
   "metadata": {
    "collapsed": false
   },
   "outputs": [
    {
     "data": {
      "text/html": [
       "<div>\n",
       "<table border=\"1\" class=\"dataframe\">\n",
       "  <thead>\n",
       "    <tr style=\"text-align: right;\">\n",
       "      <th></th>\n",
       "      <th>0</th>\n",
       "      <th>1</th>\n",
       "      <th>2</th>\n",
       "      <th>3</th>\n",
       "      <th>4</th>\n",
       "      <th>5</th>\n",
       "    </tr>\n",
       "  </thead>\n",
       "  <tbody>\n",
       "    <tr>\n",
       "      <th>0</th>\n",
       "      <td>TK</td>\n",
       "      <td>ABL</td>\n",
       "      <td>ABL1</td>\n",
       "      <td>ABL1</td>\n",
       "      <td>10964922;11781820;12522270;15174125;17192257;1...</td>\n",
       "      <td>HPRD;PHOSPHOELM;PHOSPHOPOINT;PHOSPHOSITE;SWISS...</td>\n",
       "    </tr>\n",
       "    <tr>\n",
       "      <th>1</th>\n",
       "      <td>TK</td>\n",
       "      <td>ABL</td>\n",
       "      <td>ABL1</td>\n",
       "      <td>ABL2</td>\n",
       "      <td>12569093;15174125;18689816</td>\n",
       "      <td>HPRD;PHOSPHOPOINT;PHOSPHOSITE</td>\n",
       "    </tr>\n",
       "    <tr>\n",
       "      <th>2</th>\n",
       "      <td>TK</td>\n",
       "      <td>ABL</td>\n",
       "      <td>ABL1</td>\n",
       "      <td>BCR</td>\n",
       "      <td>10405761;11780146;12124177;12522270;15174125;1...</td>\n",
       "      <td>HPRD;PHOSPHOELM;PHOSPHOPOINT;PHOSPHOSITE</td>\n",
       "    </tr>\n",
       "    <tr>\n",
       "      <th>3</th>\n",
       "      <td>TK</td>\n",
       "      <td>ABL</td>\n",
       "      <td>ABL1</td>\n",
       "      <td>BTK</td>\n",
       "      <td>11598012;12445832;12573241;15174125;18689816;8...</td>\n",
       "      <td>HPRD;PHOSPHOELM;PHOSPHOPOINT;PHOSPHOSITE</td>\n",
       "    </tr>\n",
       "    <tr>\n",
       "      <th>4</th>\n",
       "      <td>TK</td>\n",
       "      <td>ABL</td>\n",
       "      <td>ABL1</td>\n",
       "      <td>CDK5</td>\n",
       "      <td>10896159;11113134;14757045;15174125;18689816;1...</td>\n",
       "      <td>HPRD;PHOSPHOELM;PHOSPHOPOINT;PHOSPHOSITE;SAVI;...</td>\n",
       "    </tr>\n",
       "  </tbody>\n",
       "</table>\n",
       "</div>"
      ],
      "text/plain": [
       "    0    1     2     3                                                  4  \\\n",
       "0  TK  ABL  ABL1  ABL1  10964922;11781820;12522270;15174125;17192257;1...   \n",
       "1  TK  ABL  ABL1  ABL2                         12569093;15174125;18689816   \n",
       "2  TK  ABL  ABL1   BCR  10405761;11780146;12124177;12522270;15174125;1...   \n",
       "3  TK  ABL  ABL1   BTK  11598012;12445832;12573241;15174125;18689816;8...   \n",
       "4  TK  ABL  ABL1  CDK5  10896159;11113134;14757045;15174125;18689816;1...   \n",
       "\n",
       "                                                   5  \n",
       "0  HPRD;PHOSPHOELM;PHOSPHOPOINT;PHOSPHOSITE;SWISS...  \n",
       "1                      HPRD;PHOSPHOPOINT;PHOSPHOSITE  \n",
       "2           HPRD;PHOSPHOELM;PHOSPHOPOINT;PHOSPHOSITE  \n",
       "3           HPRD;PHOSPHOELM;PHOSPHOPOINT;PHOSPHOSITE  \n",
       "4  HPRD;PHOSPHOELM;PHOSPHOPOINT;PHOSPHOSITE;SAVI;...  "
      ]
     },
     "execution_count": 41,
     "metadata": {},
     "output_type": "execute_result"
    }
   ],
   "source": [
    "kea_df.head()"
   ]
  },
  {
   "cell_type": "code",
   "execution_count": 42,
   "metadata": {
    "collapsed": true
   },
   "outputs": [],
   "source": [
    "kea_ph_df = pd.read_csv('/Users/moshesilverstein/Desktop/PPI Library/Input/KEA/phosphorylation_reactions.csv', sep=',', header=None)"
   ]
  },
  {
   "cell_type": "code",
   "execution_count": 43,
   "metadata": {
    "collapsed": false
   },
   "outputs": [
    {
     "data": {
      "text/html": [
       "<div>\n",
       "<table border=\"1\" class=\"dataframe\">\n",
       "  <thead>\n",
       "    <tr style=\"text-align: right;\">\n",
       "      <th></th>\n",
       "      <th>0</th>\n",
       "      <th>1</th>\n",
       "      <th>2</th>\n",
       "      <th>3</th>\n",
       "      <th>4</th>\n",
       "      <th>5</th>\n",
       "    </tr>\n",
       "  </thead>\n",
       "  <tbody>\n",
       "    <tr>\n",
       "      <th>0</th>\n",
       "      <td>TK</td>\n",
       "      <td>ABL</td>\n",
       "      <td>ABL1</td>\n",
       "      <td>ABI1</td>\n",
       "      <td>11418237;12672821;15174125;17101133;18689816;8...</td>\n",
       "      <td>HPRD;MINT;PHOSPHOPOINT;PHOSPHOSITE</td>\n",
       "    </tr>\n",
       "    <tr>\n",
       "      <th>1</th>\n",
       "      <td>TK</td>\n",
       "      <td>ABL</td>\n",
       "      <td>ABL1</td>\n",
       "      <td>ABL1</td>\n",
       "      <td>10964922;11781820;12522270;15174125;17192257;1...</td>\n",
       "      <td>HPRD;PHOSPHOELM;PHOSPHOPOINT;PHOSPHOSITE;SWISS...</td>\n",
       "    </tr>\n",
       "    <tr>\n",
       "      <th>2</th>\n",
       "      <td>TK</td>\n",
       "      <td>ABL</td>\n",
       "      <td>ABL1</td>\n",
       "      <td>ABL2</td>\n",
       "      <td>12569093;15174125;18689816</td>\n",
       "      <td>HPRD;PHOSPHOPOINT;PHOSPHOSITE</td>\n",
       "    </tr>\n",
       "    <tr>\n",
       "      <th>3</th>\n",
       "      <td>TK</td>\n",
       "      <td>ABL</td>\n",
       "      <td>ABL1</td>\n",
       "      <td>ACAP2</td>\n",
       "      <td>17981841</td>\n",
       "      <td>NETWORKIN</td>\n",
       "    </tr>\n",
       "    <tr>\n",
       "      <th>4</th>\n",
       "      <td>TK</td>\n",
       "      <td>ABL</td>\n",
       "      <td>ABL1</td>\n",
       "      <td>ANXA1</td>\n",
       "      <td>15174125;2457390</td>\n",
       "      <td>PHOSPHOELM;PHOSPHOSITE</td>\n",
       "    </tr>\n",
       "  </tbody>\n",
       "</table>\n",
       "</div>"
      ],
      "text/plain": [
       "    0    1     2      3                                                  4  \\\n",
       "0  TK  ABL  ABL1   ABI1  11418237;12672821;15174125;17101133;18689816;8...   \n",
       "1  TK  ABL  ABL1   ABL1  10964922;11781820;12522270;15174125;17192257;1...   \n",
       "2  TK  ABL  ABL1   ABL2                         12569093;15174125;18689816   \n",
       "3  TK  ABL  ABL1  ACAP2                                           17981841   \n",
       "4  TK  ABL  ABL1  ANXA1                                   15174125;2457390   \n",
       "\n",
       "                                                   5  \n",
       "0                 HPRD;MINT;PHOSPHOPOINT;PHOSPHOSITE  \n",
       "1  HPRD;PHOSPHOELM;PHOSPHOPOINT;PHOSPHOSITE;SWISS...  \n",
       "2                      HPRD;PHOSPHOPOINT;PHOSPHOSITE  \n",
       "3                                          NETWORKIN  \n",
       "4                             PHOSPHOELM;PHOSPHOSITE  "
      ]
     },
     "execution_count": 43,
     "metadata": {},
     "output_type": "execute_result"
    }
   ],
   "source": [
    "kea_ph_df.head()"
   ]
  },
  {
   "cell_type": "code",
   "execution_count": 44,
   "metadata": {
    "collapsed": true
   },
   "outputs": [],
   "source": [
    "kea_df = pd.concat([kea_df, kea_ph_df])"
   ]
  },
  {
   "cell_type": "code",
   "execution_count": 45,
   "metadata": {
    "collapsed": false
   },
   "outputs": [
    {
     "data": {
      "text/plain": [
       "(22478, 6)"
      ]
     },
     "execution_count": 45,
     "metadata": {},
     "output_type": "execute_result"
    }
   ],
   "source": [
    "kea_df.shape"
   ]
  },
  {
   "cell_type": "code",
   "execution_count": 46,
   "metadata": {
    "collapsed": true
   },
   "outputs": [],
   "source": [
    "kea_df.drop_duplicates(inplace=True)"
   ]
  },
  {
   "cell_type": "code",
   "execution_count": 47,
   "metadata": {
    "collapsed": false
   },
   "outputs": [
    {
     "data": {
      "text/plain": [
       "(17401, 6)"
      ]
     },
     "execution_count": 47,
     "metadata": {},
     "output_type": "execute_result"
    }
   ],
   "source": [
    "kea_df.shape"
   ]
  },
  {
   "cell_type": "code",
   "execution_count": 48,
   "metadata": {
    "collapsed": true
   },
   "outputs": [],
   "source": [
    "kea_df.reset_index(inplace=True)\n",
    "kea_df.drop('index', axis=1, inplace=True)"
   ]
  },
  {
   "cell_type": "code",
   "execution_count": 49,
   "metadata": {
    "collapsed": false
   },
   "outputs": [],
   "source": [
    "#i = 1\n",
    "for index in kea_df.index:\n",
    "    #print('\\r', str(i)+' Out of '+ str(len(kea_df.index)), end=' ', flush=True)\n",
    "    kea_df.ix[index, 4] = kea_df.ix[index,4].replace(';', '|')\n",
    "    kea_df.ix[index, 5] = kea_df.ix[index,5].replace(';', '|')\n",
    "    #i+=1"
   ]
  },
  {
   "cell_type": "code",
   "execution_count": 50,
   "metadata": {
    "collapsed": true
   },
   "outputs": [],
   "source": [
    "kea_df = kea_df[[2,3,4,5]]"
   ]
  },
  {
   "cell_type": "code",
   "execution_count": 51,
   "metadata": {
    "collapsed": true
   },
   "outputs": [],
   "source": [
    "kea_df.rename(columns={2: 'Aliases for A', 3:'Aliases for B', 4:'Identifier of the publication', 5:'Source databases'}, inplace=True)"
   ]
  },
  {
   "cell_type": "code",
   "execution_count": 19,
   "metadata": {
    "collapsed": false
   },
   "outputs": [],
   "source": [
    "#kea_df.ix[0, 5] = kea_df.ix[0,5].replace(';', '|')"
   ]
  },
  {
   "cell_type": "code",
   "execution_count": 53,
   "metadata": {
    "collapsed": false
   },
   "outputs": [
    {
     "name": "stdout",
     "output_type": "stream",
     "text": [
      " 6400 Out of 6365 "
     ]
    }
   ],
   "source": [
    "# drop any data that was published with more then 10 PPI's per publication\n",
    "i = 1\n",
    "for pub in kea_df['Identifier of the publication'].unique():\n",
    "    if i % 100 == 0:\n",
    "        print('\\r', str(i)+' Out of '+ str(len(kea_df['Identifier of the publication'].unique())), end=' ', flush=True)\n",
    "    if kea_df[kea_df['Identifier of the publication'] == pub].shape[0] > 10:\n",
    "        kea_df.drop(kea_df[kea_df['Identifier of the publication'] == pub].index.tolist(), inplace=True)\n",
    "    i +=1\n"
   ]
  },
  {
   "cell_type": "code",
   "execution_count": 54,
   "metadata": {
    "collapsed": false
   },
   "outputs": [
    {
     "data": {
      "text/plain": [
       "(8060, 4)"
      ]
     },
     "execution_count": 54,
     "metadata": {},
     "output_type": "execute_result"
    }
   ],
   "source": [
    "kea_df.shape"
   ]
  },
  {
   "cell_type": "code",
   "execution_count": 60,
   "metadata": {
    "collapsed": true
   },
   "outputs": [],
   "source": [
    "kea_df.to_csv('/Users/moshesilverstein/Desktop/PPI Library/IntProc/kea_human.csv', sep='\\t')"
   ]
  },
  {
   "cell_type": "markdown",
   "metadata": {},
   "source": [
    "### Data Tables"
   ]
  },
  {
   "cell_type": "code",
   "execution_count": 122,
   "metadata": {
    "collapsed": false
   },
   "outputs": [
    {
     "data": {
      "text/html": [
       "<div>\n",
       "<table border=\"1\" class=\"dataframe\">\n",
       "  <thead>\n",
       "    <tr style=\"text-align: right;\">\n",
       "      <th></th>\n",
       "      <th>Aliases for A</th>\n",
       "      <th>Aliases for B</th>\n",
       "      <th>Identifier of the publication</th>\n",
       "      <th>Source databases</th>\n",
       "    </tr>\n",
       "  </thead>\n",
       "  <tbody>\n",
       "    <tr>\n",
       "      <th>0</th>\n",
       "      <td>FBXO5</td>\n",
       "      <td>SKP1</td>\n",
       "      <td>17380122</td>\n",
       "      <td>psi-mi:\"MI:0471\"(MINT)</td>\n",
       "    </tr>\n",
       "    <tr>\n",
       "      <th>12</th>\n",
       "      <td>SLC6A3</td>\n",
       "      <td>DRD2</td>\n",
       "      <td>17380124</td>\n",
       "      <td>psi-mi:\"MI:0471\"(MINT)</td>\n",
       "    </tr>\n",
       "    <tr>\n",
       "      <th>53</th>\n",
       "      <td>TCF4</td>\n",
       "      <td>EP300</td>\n",
       "      <td>17410209</td>\n",
       "      <td>psi-mi:\"MI:0471\"(MINT)</td>\n",
       "    </tr>\n",
       "    <tr>\n",
       "      <th>54</th>\n",
       "      <td>RUNX1</td>\n",
       "      <td>CDK6</td>\n",
       "      <td>17431401</td>\n",
       "      <td>psi-mi:\"MI:0471\"(MINT)</td>\n",
       "    </tr>\n",
       "    <tr>\n",
       "      <th>55</th>\n",
       "      <td>CBFB</td>\n",
       "      <td>RUNX1</td>\n",
       "      <td>17431401</td>\n",
       "      <td>psi-mi:\"MI:0471\"(MINT)</td>\n",
       "    </tr>\n",
       "  </tbody>\n",
       "</table>\n",
       "</div>"
      ],
      "text/latex": [
       "\\centering{\\begin{tabular}{lllll}\n",
       "\\toprule\n",
       "{} & Aliases for A & Aliases for B & Identifier of the publication &        Source databases \\\\\n",
       "\\midrule\n",
       "0  &         FBXO5 &          SKP1 &                      17380122 &  psi-mi:\"MI:0471\"(MINT) \\\\\n",
       "12 &        SLC6A3 &          DRD2 &                      17380124 &  psi-mi:\"MI:0471\"(MINT) \\\\\n",
       "53 &          TCF4 &         EP300 &                      17410209 &  psi-mi:\"MI:0471\"(MINT) \\\\\n",
       "54 &         RUNX1 &          CDK6 &                      17431401 &  psi-mi:\"MI:0471\"(MINT) \\\\\n",
       "55 &          CBFB &         RUNX1 &                      17431401 &  psi-mi:\"MI:0471\"(MINT) \\\\\n",
       "\\bottomrule\n",
       "\\end{tabular}\n",
       "}"
      ],
      "text/plain": [
       "   Aliases for A Aliases for B Identifier of the publication  \\\n",
       "0          FBXO5          SKP1                      17380122   \n",
       "12        SLC6A3          DRD2                      17380124   \n",
       "53          TCF4         EP300                      17410209   \n",
       "54         RUNX1          CDK6                      17431401   \n",
       "55          CBFB         RUNX1                      17431401   \n",
       "\n",
       "          Source databases  \n",
       "0   psi-mi:\"MI:0471\"(MINT)  \n",
       "12  psi-mi:\"MI:0471\"(MINT)  \n",
       "53  psi-mi:\"MI:0471\"(MINT)  \n",
       "54  psi-mi:\"MI:0471\"(MINT)  \n",
       "55  psi-mi:\"MI:0471\"(MINT)  "
      ]
     },
     "execution_count": 122,
     "metadata": {},
     "output_type": "execute_result"
    }
   ],
   "source": [
    "mint_df.head()"
   ]
  },
  {
   "cell_type": "code",
   "execution_count": 123,
   "metadata": {
    "collapsed": false
   },
   "outputs": [
    {
     "data": {
      "text/html": [
       "<div>\n",
       "<table border=\"1\" class=\"dataframe\">\n",
       "  <thead>\n",
       "    <tr style=\"text-align: right;\">\n",
       "      <th></th>\n",
       "      <th>Aliases for A</th>\n",
       "      <th>Aliases for B</th>\n",
       "      <th>Identifier of the publication</th>\n",
       "      <th>Source databases</th>\n",
       "    </tr>\n",
       "  </thead>\n",
       "  <tbody>\n",
       "    <tr>\n",
       "      <th>0</th>\n",
       "      <td>MAP2K4</td>\n",
       "      <td>FLNC</td>\n",
       "      <td>9006895</td>\n",
       "      <td>psi-mi:\"MI:0463\"(biogrid)</td>\n",
       "    </tr>\n",
       "    <tr>\n",
       "      <th>1</th>\n",
       "      <td>MYPN</td>\n",
       "      <td>ACTN2</td>\n",
       "      <td>11309420</td>\n",
       "      <td>psi-mi:\"MI:0463\"(biogrid)</td>\n",
       "    </tr>\n",
       "    <tr>\n",
       "      <th>2</th>\n",
       "      <td>ACVR1</td>\n",
       "      <td>FNTA</td>\n",
       "      <td>8599089</td>\n",
       "      <td>psi-mi:\"MI:0463\"(biogrid)</td>\n",
       "    </tr>\n",
       "    <tr>\n",
       "      <th>3</th>\n",
       "      <td>GATA2</td>\n",
       "      <td>PML</td>\n",
       "      <td>10938104</td>\n",
       "      <td>psi-mi:\"MI:0463\"(biogrid)</td>\n",
       "    </tr>\n",
       "    <tr>\n",
       "      <th>4</th>\n",
       "      <td>RPA2</td>\n",
       "      <td>STAT3</td>\n",
       "      <td>10875894</td>\n",
       "      <td>psi-mi:\"MI:0463\"(biogrid)</td>\n",
       "    </tr>\n",
       "  </tbody>\n",
       "</table>\n",
       "</div>"
      ],
      "text/latex": [
       "\\centering{\\begin{tabular}{lllll}\n",
       "\\toprule\n",
       "{} & Aliases for A & Aliases for B & Identifier of the publication &           Source databases \\\\\n",
       "\\midrule\n",
       "0 &        MAP2K4 &          FLNC &                       9006895 &  psi-mi:\"MI:0463\"(biogrid) \\\\\n",
       "1 &          MYPN &         ACTN2 &                      11309420 &  psi-mi:\"MI:0463\"(biogrid) \\\\\n",
       "2 &         ACVR1 &          FNTA &                       8599089 &  psi-mi:\"MI:0463\"(biogrid) \\\\\n",
       "3 &         GATA2 &           PML &                      10938104 &  psi-mi:\"MI:0463\"(biogrid) \\\\\n",
       "4 &          RPA2 &         STAT3 &                      10875894 &  psi-mi:\"MI:0463\"(biogrid) \\\\\n",
       "\\bottomrule\n",
       "\\end{tabular}\n",
       "}"
      ],
      "text/plain": [
       "  Aliases for A Aliases for B Identifier of the publication  \\\n",
       "0        MAP2K4          FLNC                       9006895   \n",
       "1          MYPN         ACTN2                      11309420   \n",
       "2         ACVR1          FNTA                       8599089   \n",
       "3         GATA2           PML                      10938104   \n",
       "4          RPA2         STAT3                      10875894   \n",
       "\n",
       "            Source databases  \n",
       "0  psi-mi:\"MI:0463\"(biogrid)  \n",
       "1  psi-mi:\"MI:0463\"(biogrid)  \n",
       "2  psi-mi:\"MI:0463\"(biogrid)  \n",
       "3  psi-mi:\"MI:0463\"(biogrid)  \n",
       "4  psi-mi:\"MI:0463\"(biogrid)  "
      ]
     },
     "execution_count": 123,
     "metadata": {},
     "output_type": "execute_result"
    }
   ],
   "source": [
    "biogrid_df.head()"
   ]
  },
  {
   "cell_type": "code",
   "execution_count": 124,
   "metadata": {
    "collapsed": false
   },
   "outputs": [
    {
     "data": {
      "text/html": [
       "<div>\n",
       "<table border=\"1\" class=\"dataframe\">\n",
       "  <thead>\n",
       "    <tr style=\"text-align: right;\">\n",
       "      <th></th>\n",
       "      <th>Aliases for A</th>\n",
       "      <th>Aliases for B</th>\n",
       "      <th>Identifier of the publication</th>\n",
       "      <th>Source databases</th>\n",
       "    </tr>\n",
       "  </thead>\n",
       "  <tbody>\n",
       "    <tr>\n",
       "      <th>0</th>\n",
       "      <td>LY96</td>\n",
       "      <td>TLR4</td>\n",
       "      <td>10359581</td>\n",
       "      <td>MI:0974(innatedb)</td>\n",
       "    </tr>\n",
       "    <tr>\n",
       "      <th>1</th>\n",
       "      <td>MYD88</td>\n",
       "      <td>TLR4</td>\n",
       "      <td>17228323</td>\n",
       "      <td>MI:0974(innatedb)</td>\n",
       "    </tr>\n",
       "    <tr>\n",
       "      <th>2</th>\n",
       "      <td>MYD88</td>\n",
       "      <td>IRAK4</td>\n",
       "      <td>12860405</td>\n",
       "      <td>MI:0974(innatedb)</td>\n",
       "    </tr>\n",
       "    <tr>\n",
       "      <th>7</th>\n",
       "      <td>IRAK4</td>\n",
       "      <td>IRAK1</td>\n",
       "      <td>12860405</td>\n",
       "      <td>MI:0974(innatedb)</td>\n",
       "    </tr>\n",
       "    <tr>\n",
       "      <th>11</th>\n",
       "      <td>PELI2</td>\n",
       "      <td>IRAK4</td>\n",
       "      <td>12860405</td>\n",
       "      <td>MI:0974(innatedb)</td>\n",
       "    </tr>\n",
       "  </tbody>\n",
       "</table>\n",
       "</div>"
      ],
      "text/latex": [
       "\\centering{\\begin{tabular}{lllll}\n",
       "\\toprule\n",
       "{} & Aliases for A & Aliases for B & Identifier of the publication &   Source databases \\\\\n",
       "\\midrule\n",
       "0  &          LY96 &          TLR4 &                      10359581 &  MI:0974(innatedb) \\\\\n",
       "1  &         MYD88 &          TLR4 &                      17228323 &  MI:0974(innatedb) \\\\\n",
       "2  &         MYD88 &         IRAK4 &                      12860405 &  MI:0974(innatedb) \\\\\n",
       "7  &         IRAK4 &         IRAK1 &                      12860405 &  MI:0974(innatedb) \\\\\n",
       "11 &         PELI2 &         IRAK4 &                      12860405 &  MI:0974(innatedb) \\\\\n",
       "\\bottomrule\n",
       "\\end{tabular}\n",
       "}"
      ],
      "text/plain": [
       "   Aliases for A Aliases for B Identifier of the publication  \\\n",
       "0           LY96          TLR4                      10359581   \n",
       "1          MYD88          TLR4                      17228323   \n",
       "2          MYD88         IRAK4                      12860405   \n",
       "7          IRAK4         IRAK1                      12860405   \n",
       "11         PELI2         IRAK4                      12860405   \n",
       "\n",
       "     Source databases  \n",
       "0   MI:0974(innatedb)  \n",
       "1   MI:0974(innatedb)  \n",
       "2   MI:0974(innatedb)  \n",
       "7   MI:0974(innatedb)  \n",
       "11  MI:0974(innatedb)  "
      ]
     },
     "execution_count": 124,
     "metadata": {},
     "output_type": "execute_result"
    }
   ],
   "source": [
    "innatedb_df.head()"
   ]
  },
  {
   "cell_type": "code",
   "execution_count": 125,
   "metadata": {
    "collapsed": false
   },
   "outputs": [
    {
     "data": {
      "text/html": [
       "<div>\n",
       "<table border=\"1\" class=\"dataframe\">\n",
       "  <thead>\n",
       "    <tr style=\"text-align: right;\">\n",
       "      <th></th>\n",
       "      <th>Aliases for A</th>\n",
       "      <th>Aliases for B</th>\n",
       "      <th>Identifier of the publication</th>\n",
       "      <th>Source databases</th>\n",
       "    </tr>\n",
       "  </thead>\n",
       "  <tbody>\n",
       "    <tr>\n",
       "      <th>0</th>\n",
       "      <td>CD4</td>\n",
       "      <td>CD4</td>\n",
       "      <td>9168119</td>\n",
       "      <td>MI:0465(dip)</td>\n",
       "    </tr>\n",
       "    <tr>\n",
       "      <th>2</th>\n",
       "      <td>RB1</td>\n",
       "      <td>KDM5A</td>\n",
       "      <td>8414517</td>\n",
       "      <td>MI:0465(dip)</td>\n",
       "    </tr>\n",
       "    <tr>\n",
       "      <th>3</th>\n",
       "      <td>POU2F2</td>\n",
       "      <td>TBP</td>\n",
       "      <td>8202368</td>\n",
       "      <td>MI:0465(dip)</td>\n",
       "    </tr>\n",
       "    <tr>\n",
       "      <th>4</th>\n",
       "      <td>CRK</td>\n",
       "      <td>CBL</td>\n",
       "      <td>9178909</td>\n",
       "      <td>MI:0465(dip)</td>\n",
       "    </tr>\n",
       "    <tr>\n",
       "      <th>5</th>\n",
       "      <td>INSR</td>\n",
       "      <td>PIK3R1</td>\n",
       "      <td>7589433</td>\n",
       "      <td>MI:0465(dip)</td>\n",
       "    </tr>\n",
       "  </tbody>\n",
       "</table>\n",
       "</div>"
      ],
      "text/latex": [
       "\\centering{\\begin{tabular}{lllll}\n",
       "\\toprule\n",
       "{} & Aliases for A & Aliases for B & Identifier of the publication & Source databases \\\\\n",
       "\\midrule\n",
       "0 &           CD4 &           CD4 &                       9168119 &     MI:0465(dip) \\\\\n",
       "2 &           RB1 &         KDM5A &                       8414517 &     MI:0465(dip) \\\\\n",
       "3 &        POU2F2 &           TBP &                       8202368 &     MI:0465(dip) \\\\\n",
       "4 &           CRK &           CBL &                       9178909 &     MI:0465(dip) \\\\\n",
       "5 &          INSR &        PIK3R1 &                       7589433 &     MI:0465(dip) \\\\\n",
       "\\bottomrule\n",
       "\\end{tabular}\n",
       "}"
      ],
      "text/plain": [
       "  Aliases for A Aliases for B Identifier of the publication Source databases\n",
       "0           CD4           CD4                       9168119     MI:0465(dip)\n",
       "2           RB1         KDM5A                       8414517     MI:0465(dip)\n",
       "3        POU2F2           TBP                       8202368     MI:0465(dip)\n",
       "4           CRK           CBL                       9178909     MI:0465(dip)\n",
       "5          INSR        PIK3R1                       7589433     MI:0465(dip)"
      ]
     },
     "execution_count": 125,
     "metadata": {},
     "output_type": "execute_result"
    }
   ],
   "source": [
    "dip_df.head()"
   ]
  },
  {
   "cell_type": "code",
   "execution_count": 126,
   "metadata": {
    "collapsed": false
   },
   "outputs": [
    {
     "data": {
      "text/html": [
       "<div>\n",
       "<table border=\"1\" class=\"dataframe\">\n",
       "  <thead>\n",
       "    <tr style=\"text-align: right;\">\n",
       "      <th></th>\n",
       "      <th>Aliases for A</th>\n",
       "      <th>Aliases for B</th>\n",
       "      <th>Identifier of the publication</th>\n",
       "      <th>Source databases</th>\n",
       "    </tr>\n",
       "  </thead>\n",
       "  <tbody>\n",
       "    <tr>\n",
       "      <th>31</th>\n",
       "      <td>MYO10</td>\n",
       "      <td>TUBB2B</td>\n",
       "      <td>21642953</td>\n",
       "      <td>(mentha)</td>\n",
       "    </tr>\n",
       "    <tr>\n",
       "      <th>34</th>\n",
       "      <td>HDAC6</td>\n",
       "      <td>TUBB2B</td>\n",
       "      <td>12606581</td>\n",
       "      <td>(mentha)</td>\n",
       "    </tr>\n",
       "    <tr>\n",
       "      <th>36</th>\n",
       "      <td>ABCB5</td>\n",
       "      <td>PSMB9</td>\n",
       "      <td>15488952</td>\n",
       "      <td>(mentha)</td>\n",
       "    </tr>\n",
       "    <tr>\n",
       "      <th>38</th>\n",
       "      <td>DSCC1</td>\n",
       "      <td>CHTF8</td>\n",
       "      <td>12766176|26186194</td>\n",
       "      <td>(mentha)</td>\n",
       "    </tr>\n",
       "    <tr>\n",
       "      <th>39</th>\n",
       "      <td>DSCC1</td>\n",
       "      <td>CHTF8</td>\n",
       "      <td>12766176|26186194</td>\n",
       "      <td>(mentha)</td>\n",
       "    </tr>\n",
       "  </tbody>\n",
       "</table>\n",
       "</div>"
      ],
      "text/latex": [
       "\\centering{\\begin{tabular}{lllll}\n",
       "\\toprule\n",
       "{} & Aliases for A & Aliases for B & Identifier of the publication & Source databases \\\\\n",
       "\\midrule\n",
       "31 &         MYO10 &        TUBB2B &                      21642953 &         (mentha) \\\\\n",
       "34 &         HDAC6 &        TUBB2B &                      12606581 &         (mentha) \\\\\n",
       "36 &         ABCB5 &         PSMB9 &                      15488952 &         (mentha) \\\\\n",
       "38 &         DSCC1 &         CHTF8 &             12766176|26186194 &         (mentha) \\\\\n",
       "39 &         DSCC1 &         CHTF8 &             12766176|26186194 &         (mentha) \\\\\n",
       "\\bottomrule\n",
       "\\end{tabular}\n",
       "}"
      ],
      "text/plain": [
       "   Aliases for A Aliases for B Identifier of the publication Source databases\n",
       "31         MYO10        TUBB2B                      21642953         (mentha)\n",
       "34         HDAC6        TUBB2B                      12606581         (mentha)\n",
       "36         ABCB5         PSMB9                      15488952         (mentha)\n",
       "38         DSCC1         CHTF8             12766176|26186194         (mentha)\n",
       "39         DSCC1         CHTF8             12766176|26186194         (mentha)"
      ]
     },
     "execution_count": 126,
     "metadata": {},
     "output_type": "execute_result"
    }
   ],
   "source": [
    "mentha_df.head()"
   ]
  },
  {
   "cell_type": "code",
   "execution_count": 127,
   "metadata": {
    "collapsed": false
   },
   "outputs": [
    {
     "data": {
      "text/html": [
       "<div>\n",
       "<table border=\"1\" class=\"dataframe\">\n",
       "  <thead>\n",
       "    <tr style=\"text-align: right;\">\n",
       "      <th></th>\n",
       "      <th>Aliases for A</th>\n",
       "      <th>Aliases for B</th>\n",
       "      <th>Identifier of the publication</th>\n",
       "      <th>Source databases</th>\n",
       "    </tr>\n",
       "  </thead>\n",
       "  <tbody>\n",
       "    <tr>\n",
       "      <th>22</th>\n",
       "      <td>FHL3</td>\n",
       "      <td>FHL2</td>\n",
       "      <td>11135358</td>\n",
       "      <td>psi-mi:\"MI:0471\"(MINT)</td>\n",
       "    </tr>\n",
       "    <tr>\n",
       "      <th>24</th>\n",
       "      <td>EPS15</td>\n",
       "      <td>EPS15</td>\n",
       "      <td>9182572</td>\n",
       "      <td>psi-mi:\"MI:0471\"(MINT)</td>\n",
       "    </tr>\n",
       "    <tr>\n",
       "      <th>27</th>\n",
       "      <td>MCM7</td>\n",
       "      <td>FHL2</td>\n",
       "      <td>10649446</td>\n",
       "      <td>psi-mi:\"MI:0471\"(MINT)</td>\n",
       "    </tr>\n",
       "    <tr>\n",
       "      <th>28</th>\n",
       "      <td>AR</td>\n",
       "      <td>FHL2</td>\n",
       "      <td>10654935</td>\n",
       "      <td>psi-mi:\"MI:0471\"(MINT)</td>\n",
       "    </tr>\n",
       "    <tr>\n",
       "      <th>30</th>\n",
       "      <td>SOS1</td>\n",
       "      <td>ABI1</td>\n",
       "      <td>10499589</td>\n",
       "      <td>psi-mi:\"MI:0471\"(MINT)</td>\n",
       "    </tr>\n",
       "  </tbody>\n",
       "</table>\n",
       "</div>"
      ],
      "text/latex": [
       "\\centering{\\begin{tabular}{lllll}\n",
       "\\toprule\n",
       "{} & Aliases for A & Aliases for B & Identifier of the publication &        Source databases \\\\\n",
       "\\midrule\n",
       "22 &          FHL3 &          FHL2 &                      11135358 &  psi-mi:\"MI:0471\"(MINT) \\\\\n",
       "24 &         EPS15 &         EPS15 &                       9182572 &  psi-mi:\"MI:0471\"(MINT) \\\\\n",
       "27 &          MCM7 &          FHL2 &                      10649446 &  psi-mi:\"MI:0471\"(MINT) \\\\\n",
       "28 &            AR &          FHL2 &                      10654935 &  psi-mi:\"MI:0471\"(MINT) \\\\\n",
       "30 &          SOS1 &          ABI1 &                      10499589 &  psi-mi:\"MI:0471\"(MINT) \\\\\n",
       "\\bottomrule\n",
       "\\end{tabular}\n",
       "}"
      ],
      "text/plain": [
       "   Aliases for A Aliases for B Identifier of the publication  \\\n",
       "22          FHL3          FHL2                      11135358   \n",
       "24         EPS15         EPS15                       9182572   \n",
       "27          MCM7          FHL2                      10649446   \n",
       "28            AR          FHL2                      10654935   \n",
       "30          SOS1          ABI1                      10499589   \n",
       "\n",
       "          Source databases  \n",
       "22  psi-mi:\"MI:0471\"(MINT)  \n",
       "24  psi-mi:\"MI:0471\"(MINT)  \n",
       "27  psi-mi:\"MI:0471\"(MINT)  \n",
       "28  psi-mi:\"MI:0471\"(MINT)  \n",
       "30  psi-mi:\"MI:0471\"(MINT)  "
      ]
     },
     "execution_count": 127,
     "metadata": {},
     "output_type": "execute_result"
    }
   ],
   "source": [
    "intact_df.head()"
   ]
  },
  {
   "cell_type": "code",
   "execution_count": 128,
   "metadata": {
    "collapsed": false
   },
   "outputs": [
    {
     "data": {
      "text/html": [
       "<div>\n",
       "<table border=\"1\" class=\"dataframe\">\n",
       "  <thead>\n",
       "    <tr style=\"text-align: right;\">\n",
       "      <th></th>\n",
       "      <th>Aliases for A</th>\n",
       "      <th>Aliases for B</th>\n",
       "      <th>Identifier of the publication</th>\n",
       "      <th>Source databases</th>\n",
       "    </tr>\n",
       "  </thead>\n",
       "  <tbody>\n",
       "    <tr>\n",
       "      <th>0</th>\n",
       "      <td>SYNGAP1</td>\n",
       "      <td>RAP1A</td>\n",
       "      <td>15312654</td>\n",
       "      <td>(SAVI)</td>\n",
       "    </tr>\n",
       "    <tr>\n",
       "      <th>1</th>\n",
       "      <td>GSK3A</td>\n",
       "      <td>JUN</td>\n",
       "      <td>16023596|1846781</td>\n",
       "      <td>(SAVI)</td>\n",
       "    </tr>\n",
       "    <tr>\n",
       "      <th>2</th>\n",
       "      <td>RIPK1</td>\n",
       "      <td>SQSTM1</td>\n",
       "      <td>10356400</td>\n",
       "      <td>(SAVI)</td>\n",
       "    </tr>\n",
       "    <tr>\n",
       "      <th>3</th>\n",
       "      <td>CAMK2A</td>\n",
       "      <td>MAP2</td>\n",
       "      <td>7890745|9341200|2561875</td>\n",
       "      <td>(SAVI)</td>\n",
       "    </tr>\n",
       "    <tr>\n",
       "      <th>4</th>\n",
       "      <td>ARRB1</td>\n",
       "      <td>ADRB2</td>\n",
       "      <td>11171997</td>\n",
       "      <td>(SAVI)</td>\n",
       "    </tr>\n",
       "  </tbody>\n",
       "</table>\n",
       "</div>"
      ],
      "text/latex": [
       "\\centering{\\begin{tabular}{lllll}\n",
       "\\toprule\n",
       "{} & Aliases for A & Aliases for B & Identifier of the publication & Source databases \\\\\n",
       "\\midrule\n",
       "0 &       SYNGAP1 &         RAP1A &                      15312654 &           (SAVI) \\\\\n",
       "1 &         GSK3A &           JUN &              16023596|1846781 &           (SAVI) \\\\\n",
       "2 &         RIPK1 &        SQSTM1 &                      10356400 &           (SAVI) \\\\\n",
       "3 &        CAMK2A &          MAP2 &       7890745|9341200|2561875 &           (SAVI) \\\\\n",
       "4 &         ARRB1 &         ADRB2 &                      11171997 &           (SAVI) \\\\\n",
       "\\bottomrule\n",
       "\\end{tabular}\n",
       "}"
      ],
      "text/plain": [
       "  Aliases for A Aliases for B Identifier of the publication Source databases\n",
       "0       SYNGAP1         RAP1A                      15312654           (SAVI)\n",
       "1         GSK3A           JUN              16023596|1846781           (SAVI)\n",
       "2         RIPK1        SQSTM1                      10356400           (SAVI)\n",
       "3        CAMK2A          MAP2       7890745|9341200|2561875           (SAVI)\n",
       "4         ARRB1         ADRB2                      11171997           (SAVI)"
      ]
     },
     "execution_count": 128,
     "metadata": {},
     "output_type": "execute_result"
    }
   ],
   "source": [
    "savi_df.head()"
   ]
  },
  {
   "cell_type": "code",
   "execution_count": 56,
   "metadata": {
    "collapsed": false
   },
   "outputs": [
    {
     "data": {
      "text/html": [
       "<div>\n",
       "<table border=\"1\" class=\"dataframe\">\n",
       "  <thead>\n",
       "    <tr style=\"text-align: right;\">\n",
       "      <th></th>\n",
       "      <th>Aliases for A</th>\n",
       "      <th>Aliases for B</th>\n",
       "      <th>Identifier of the publication</th>\n",
       "      <th>Source databases</th>\n",
       "    </tr>\n",
       "  </thead>\n",
       "  <tbody>\n",
       "    <tr>\n",
       "      <th>0</th>\n",
       "      <td>ABL1</td>\n",
       "      <td>ABL1</td>\n",
       "      <td>10964922|11781820|12522270|15174125|17192257|1...</td>\n",
       "      <td>HPRD|PHOSPHOELM|PHOSPHOPOINT|PHOSPHOSITE|SWISS...</td>\n",
       "    </tr>\n",
       "    <tr>\n",
       "      <th>1</th>\n",
       "      <td>ABL1</td>\n",
       "      <td>ABL2</td>\n",
       "      <td>12569093|15174125|18689816</td>\n",
       "      <td>HPRD|PHOSPHOPOINT|PHOSPHOSITE</td>\n",
       "    </tr>\n",
       "    <tr>\n",
       "      <th>2</th>\n",
       "      <td>ABL1</td>\n",
       "      <td>BCR</td>\n",
       "      <td>10405761|11780146|12124177|12522270|15174125|1...</td>\n",
       "      <td>HPRD|PHOSPHOELM|PHOSPHOPOINT|PHOSPHOSITE</td>\n",
       "    </tr>\n",
       "    <tr>\n",
       "      <th>3</th>\n",
       "      <td>ABL1</td>\n",
       "      <td>BTK</td>\n",
       "      <td>11598012|12445832|12573241|15174125|18689816|8...</td>\n",
       "      <td>HPRD|PHOSPHOELM|PHOSPHOPOINT|PHOSPHOSITE</td>\n",
       "    </tr>\n",
       "    <tr>\n",
       "      <th>4</th>\n",
       "      <td>ABL1</td>\n",
       "      <td>CDK5</td>\n",
       "      <td>10896159|11113134|14757045|15174125|18689816|1...</td>\n",
       "      <td>HPRD|PHOSPHOELM|PHOSPHOPOINT|PHOSPHOSITE|SAVI|...</td>\n",
       "    </tr>\n",
       "  </tbody>\n",
       "</table>\n",
       "</div>"
      ],
      "text/plain": [
       "  Aliases for A Aliases for B  \\\n",
       "0          ABL1          ABL1   \n",
       "1          ABL1          ABL2   \n",
       "2          ABL1           BCR   \n",
       "3          ABL1           BTK   \n",
       "4          ABL1          CDK5   \n",
       "\n",
       "                       Identifier of the publication  \\\n",
       "0  10964922|11781820|12522270|15174125|17192257|1...   \n",
       "1                         12569093|15174125|18689816   \n",
       "2  10405761|11780146|12124177|12522270|15174125|1...   \n",
       "3  11598012|12445832|12573241|15174125|18689816|8...   \n",
       "4  10896159|11113134|14757045|15174125|18689816|1...   \n",
       "\n",
       "                                    Source databases  \n",
       "0  HPRD|PHOSPHOELM|PHOSPHOPOINT|PHOSPHOSITE|SWISS...  \n",
       "1                      HPRD|PHOSPHOPOINT|PHOSPHOSITE  \n",
       "2           HPRD|PHOSPHOELM|PHOSPHOPOINT|PHOSPHOSITE  \n",
       "3           HPRD|PHOSPHOELM|PHOSPHOPOINT|PHOSPHOSITE  \n",
       "4  HPRD|PHOSPHOELM|PHOSPHOPOINT|PHOSPHOSITE|SAVI|...  "
      ]
     },
     "execution_count": 56,
     "metadata": {},
     "output_type": "execute_result"
    }
   ],
   "source": [
    "kea_df.head()"
   ]
  },
  {
   "cell_type": "markdown",
   "metadata": {},
   "source": [
    "## Comparison and overlap"
   ]
  },
  {
   "cell_type": "code",
   "execution_count": 59,
   "metadata": {
    "collapsed": false
   },
   "outputs": [
    {
     "data": {
      "text/html": [
       "<div>\n",
       "<table border=\"1\" class=\"dataframe\">\n",
       "  <thead>\n",
       "    <tr style=\"text-align: right;\">\n",
       "      <th>Overlap (Human)</th>\n",
       "      <th>mint</th>\n",
       "      <th>biogrid</th>\n",
       "      <th>innatedb</th>\n",
       "      <th>dip</th>\n",
       "      <th>mentha</th>\n",
       "      <th>intact</th>\n",
       "      <th>savi</th>\n",
       "      <th>kea</th>\n",
       "    </tr>\n",
       "  </thead>\n",
       "  <tbody>\n",
       "    <tr>\n",
       "      <th>mint</th>\n",
       "      <td>5183</td>\n",
       "      <td>2072</td>\n",
       "      <td>299</td>\n",
       "      <td>302</td>\n",
       "      <td>2761</td>\n",
       "      <td>5058</td>\n",
       "      <td>70</td>\n",
       "      <td>413</td>\n",
       "    </tr>\n",
       "    <tr>\n",
       "      <th>biogrid</th>\n",
       "      <td>2072</td>\n",
       "      <td>43586</td>\n",
       "      <td>1870</td>\n",
       "      <td>1482</td>\n",
       "      <td>21695</td>\n",
       "      <td>4359</td>\n",
       "      <td>305</td>\n",
       "      <td>2488</td>\n",
       "    </tr>\n",
       "    <tr>\n",
       "      <th>innatedb</th>\n",
       "      <td>299</td>\n",
       "      <td>1870</td>\n",
       "      <td>4754</td>\n",
       "      <td>256</td>\n",
       "      <td>1684</td>\n",
       "      <td>598</td>\n",
       "      <td>57</td>\n",
       "      <td>423</td>\n",
       "    </tr>\n",
       "    <tr>\n",
       "      <th>dip</th>\n",
       "      <td>302</td>\n",
       "      <td>1482</td>\n",
       "      <td>256</td>\n",
       "      <td>4463</td>\n",
       "      <td>1741</td>\n",
       "      <td>665</td>\n",
       "      <td>40</td>\n",
       "      <td>228</td>\n",
       "    </tr>\n",
       "    <tr>\n",
       "      <th>mentha</th>\n",
       "      <td>2761</td>\n",
       "      <td>21695</td>\n",
       "      <td>1684</td>\n",
       "      <td>1741</td>\n",
       "      <td>49501</td>\n",
       "      <td>5150</td>\n",
       "      <td>415</td>\n",
       "      <td>2051</td>\n",
       "    </tr>\n",
       "    <tr>\n",
       "      <th>intact</th>\n",
       "      <td>5058</td>\n",
       "      <td>4359</td>\n",
       "      <td>598</td>\n",
       "      <td>665</td>\n",
       "      <td>5150</td>\n",
       "      <td>10998</td>\n",
       "      <td>104</td>\n",
       "      <td>728</td>\n",
       "    </tr>\n",
       "    <tr>\n",
       "      <th>savi</th>\n",
       "      <td>70</td>\n",
       "      <td>305</td>\n",
       "      <td>57</td>\n",
       "      <td>40</td>\n",
       "      <td>415</td>\n",
       "      <td>104</td>\n",
       "      <td>1378</td>\n",
       "      <td>364</td>\n",
       "    </tr>\n",
       "    <tr>\n",
       "      <th>kea</th>\n",
       "      <td>413</td>\n",
       "      <td>2488</td>\n",
       "      <td>423</td>\n",
       "      <td>228</td>\n",
       "      <td>2051</td>\n",
       "      <td>728</td>\n",
       "      <td>364</td>\n",
       "      <td>8061</td>\n",
       "    </tr>\n",
       "  </tbody>\n",
       "</table>\n",
       "</div>"
      ],
      "text/plain": [
       "Overlap (Human)  mint biogrid innatedb   dip mentha intact  savi   kea\n",
       "mint             5183    2072      299   302   2761   5058    70   413\n",
       "biogrid          2072   43586     1870  1482  21695   4359   305  2488\n",
       "innatedb          299    1870     4754   256   1684    598    57   423\n",
       "dip               302    1482      256  4463   1741    665    40   228\n",
       "mentha           2761   21695     1684  1741  49501   5150   415  2051\n",
       "intact           5058    4359      598   665   5150  10998   104   728\n",
       "savi               70     305       57    40    415    104  1378   364\n",
       "kea               413    2488      423   228   2051    728   364  8061"
      ]
     },
     "execution_count": 59,
     "metadata": {},
     "output_type": "execute_result"
    }
   ],
   "source": [
    "data_sets= [mint_df, biogrid_df, innatedb_df, dip_df, mentha_df, intact_df, savi_df, kea_df]\n",
    "data_sets_names= ['mint', 'biogrid', 'innatedb', 'dip', 'mentha', 'intact', 'savi', 'kea']\n",
    "\n",
    "comp_df = pd.DataFrame(columns=data_sets_names, index=data_sets_names)\n",
    "comp_df.columns.name = 'Overlap (Human)'\n",
    "for i in np.arange(len(data_sets)):\n",
    "    for j in np.arange(len(data_sets)):\n",
    "        comp = pd.concat([data_sets[i][['Aliases for A', 'Aliases for B']], data_sets[j][['Aliases for A', 'Aliases for B']]])\n",
    "        comp_df.ix[data_sets_names[i], data_sets_names[j]] = comp.duplicated().sum()\n",
    "\n",
    "# mint_df[['Aliases for A', 'Aliases for B']].duplicated().sum()\n",
    "# biogrid_df[['Aliases for A', 'Aliases for B']].duplicated().sum()\n",
    "comp_df"
   ]
  },
  {
   "cell_type": "code",
   "execution_count": null,
   "metadata": {
    "collapsed": false
   },
   "outputs": [],
   "source": []
  },
  {
   "cell_type": "markdown",
   "metadata": {},
   "source": [
    "## Merged Network Table"
   ]
  },
  {
   "cell_type": "code",
   "execution_count": 61,
   "metadata": {
    "collapsed": false
   },
   "outputs": [],
   "source": [
    "mint_df = pd.read_csv('/Users/moshesilverstein/Desktop/PPI Library/IntProc/mint_human.csv', sep='\\t')\n",
    "biogrid_df = pd.read_csv('/Users/moshesilverstein/Desktop/PPI Library/IntProc/biogrid_human.csv', sep='\\t')\n",
    "innatedb_df = pd.read_csv('/Users/moshesilverstein/Desktop/PPI Library/IntProc/innatedb_human.csv', sep='\\t')\n",
    "dip_df = pd.read_csv('/Users/moshesilverstein/Desktop/PPI Library/IntProc/dip_human.csv', sep='\\t')\n",
    "mentha_df = pd.read_csv('/Users/moshesilverstein/Desktop/PPI Library/IntProc/mentha_human.csv', sep='\\t')\n",
    "intact_df = pd.read_csv('/Users/moshesilverstein/Desktop/PPI Library/IntProc/intact_human.csv', sep='\\t')\n",
    "savi_df = pd.read_csv('/Users/moshesilverstein/Desktop/PPI Library/IntProc/savi_human.csv', sep='\\t')\n",
    "kea_df = pd.read_csv('/Users/moshesilverstein/Desktop/PPI Library/IntProc/kea_human.csv', sep='\\t')"
   ]
  },
  {
   "cell_type": "code",
   "execution_count": 62,
   "metadata": {
    "collapsed": false
   },
   "outputs": [],
   "source": [
    "network_df = pd.concat([mint_df, biogrid_df, innatedb_df, dip_df, mentha_df, intact_df, savi_df, kea_df])"
   ]
  },
  {
   "cell_type": "code",
   "execution_count": 63,
   "metadata": {
    "collapsed": false
   },
   "outputs": [],
   "source": [
    "network_df.rename(columns={'Aliases for A':'Protein A (gene name)', 'Aliases for B':'Protein B (gene name)', 'Identifier of the publication':'PubMed ID'}, inplace=True)"
   ]
  },
  {
   "cell_type": "code",
   "execution_count": 64,
   "metadata": {
    "collapsed": false
   },
   "outputs": [],
   "source": [
    "network_df.sort_values(['Protein A (gene name)', 'Protein B (gene name)'], inplace=True)"
   ]
  },
  {
   "cell_type": "code",
   "execution_count": 65,
   "metadata": {
    "collapsed": false
   },
   "outputs": [],
   "source": [
    "network_df.reset_index(inplace=True)\n",
    "network_df.drop('index', axis=1, inplace=True)"
   ]
  },
  {
   "cell_type": "code",
   "execution_count": 66,
   "metadata": {
    "collapsed": false
   },
   "outputs": [
    {
     "data": {
      "text/plain": [
       "(127722, 5)"
      ]
     },
     "execution_count": 66,
     "metadata": {},
     "output_type": "execute_result"
    }
   ],
   "source": [
    "network_df.shape"
   ]
  },
  {
   "cell_type": "code",
   "execution_count": null,
   "metadata": {
    "collapsed": false
   },
   "outputs": [],
   "source": [
    "network_df.reset_index(inplace=True)\n",
    "network_df.drop('index', axis=1, inplace=True)\n",
    "oldSize = network_df.shape\n",
    "newSize = 0\n",
    "while oldSize != newSize:\n",
    "    network_df.reset_index(inplace=True)\n",
    "    network_df.drop('index', axis=1, inplace=True)\n",
    "    # concattonate like terms and remove duplicates\n",
    "    i = 1\n",
    "    end = len(network_df.index)-1\n",
    "    for index in network_df.index:\n",
    "        if i % 100 == 0:\n",
    "            print('\\r', str(i)+' Out of '+ str(len(network_df.index)), end=' ', flush=True)\n",
    "        if index in network_df.index.values and index != end:\n",
    "            if network_df.ix[index, 'Protein A (gene name)'] == network_df.ix[index+1, 'Protein A (gene name)']:\n",
    "                if network_df.ix[index, 'Protein B (gene name)'] == network_df.ix[index+1, 'Protein B (gene name)']:\n",
    "                    network_df.ix[index, 'PubMed ID'] = str(network_df.ix[index, 'PubMed ID']) +'|'+str(network_df.ix[index+1, 'PubMed ID'])\n",
    "                    network_df.ix[index, 'Source databases'] = network_df.ix[index, 'Source databases'] +'|'+network_df.ix[index+1, 'Source databases']\n",
    "                    network_df.drop(index+1, axis=0, inplace=True)\n",
    "    i += 1\n",
    "    oldSize = newSize\n",
    "    newSize = network_df.shape"
   ]
  },
  {
   "cell_type": "code",
   "execution_count": 11,
   "metadata": {
    "collapsed": false
   },
   "outputs": [],
   "source": [
    "filename = '/Users/moshesilverstein/Desktop/PPI Library/Output/network_human_%s.tsv'% str(datetime.date.today()).replace('-', '_')\n",
    "network_df.to_csv(filename, sep='\\t', index=False) "
   ]
  },
  {
   "cell_type": "code",
   "execution_count": 12,
   "metadata": {
    "collapsed": false
   },
   "outputs": [],
   "source": [
    "filename = '/Users/moshesilverstein/Desktop/PPI Library/Output/network_human_%s.tsv.gz'% str(datetime.date.today()).replace('-', '_')\n",
    "network_df.to_csv(filename, sep='\\t', index=False, compression='gzip') "
   ]
  },
  {
   "cell_type": "code",
   "execution_count": null,
   "metadata": {
    "collapsed": false
   },
   "outputs": [],
   "source": [
    "network_df.head(30)"
   ]
  },
  {
   "cell_type": "markdown",
   "metadata": {},
   "source": [
    "## Merged DataFrame "
   ]
  },
  {
   "cell_type": "code",
   "execution_count": null,
   "metadata": {
    "collapsed": false
   },
   "outputs": [],
   "source": [
    "# drop PPI to self for the DIP data \n",
    "for index in dip_df.index:\n",
    "    if dip_df.ix[index, 'Aliases for A'] == dip_df.ix[index, 'Aliases for B']:\n",
    "        dip_df.drop(index, inplace=True)"
   ]
  },
  {
   "cell_type": "code",
   "execution_count": null,
   "metadata": {
    "collapsed": false
   },
   "outputs": [],
   "source": [
    "df = pd.concat([mint_df, biogrid_df, innatedb_df, dip_df, mentha_df, intact_df, savi_df])"
   ]
  },
  {
   "cell_type": "code",
   "execution_count": null,
   "metadata": {
    "collapsed": true
   },
   "outputs": [],
   "source": [
    "df = df[['Aliases for A', 'Aliases for B']]"
   ]
  },
  {
   "cell_type": "code",
   "execution_count": null,
   "metadata": {
    "collapsed": false
   },
   "outputs": [],
   "source": [
    "df.shape"
   ]
  },
  {
   "cell_type": "code",
   "execution_count": null,
   "metadata": {
    "collapsed": true
   },
   "outputs": [],
   "source": [
    "df.drop_duplicates(['Aliases for A', 'Aliases for B'], inplace=True)"
   ]
  },
  {
   "cell_type": "code",
   "execution_count": null,
   "metadata": {
    "collapsed": true
   },
   "outputs": [],
   "source": [
    "df.dropna(inplace=True)"
   ]
  },
  {
   "cell_type": "code",
   "execution_count": null,
   "metadata": {
    "collapsed": true
   },
   "outputs": [],
   "source": []
  },
  {
   "cell_type": "code",
   "execution_count": null,
   "metadata": {
    "collapsed": false
   },
   "outputs": [],
   "source": [
    "df.shape"
   ]
  },
  {
   "cell_type": "code",
   "execution_count": null,
   "metadata": {
    "collapsed": false
   },
   "outputs": [],
   "source": [
    "df.head()"
   ]
  },
  {
   "cell_type": "markdown",
   "metadata": {
    "collapsed": false
   },
   "source": [
    "## Gene Set Library"
   ]
  },
  {
   "cell_type": "code",
   "execution_count": null,
   "metadata": {
    "collapsed": false
   },
   "outputs": [],
   "source": [
    "# build library\n",
    "\n",
    "i = 1\n",
    "\n",
    "genelist = set(df['Aliases for A'].values.tolist() + df['Aliases for B'].values.tolist())\n",
    "\n",
    "lib = pd.DataFrame()\n",
    "\n",
    "for gene in genelist:\n",
    "    if i % 100 == 0:\n",
    "        print('\\r', str(i)+' Out of '+ str(len(genelist)), end=' ', flush=True)\n",
    "    lst = set(df[df.values == gene].values.flatten().tolist())\n",
    "    lst.remove(gene)\n",
    "    lst = list(lst)\n",
    "    lst.insert(0, gene)\n",
    "    if len(lst) >= 50:\n",
    "        temp = pd.DataFrame(data=lst)\n",
    "        lib = pd.concat([lib, temp.T])\n",
    "    i += 1"
   ]
  },
  {
   "cell_type": "code",
   "execution_count": null,
   "metadata": {
    "collapsed": false
   },
   "outputs": [],
   "source": [
    "lib.to_csv('PPI_HUMAN.gmt', sep='\\t', header=None, index=False)"
   ]
  },
  {
   "cell_type": "code",
   "execution_count": null,
   "metadata": {
    "collapsed": false
   },
   "outputs": [],
   "source": []
  },
  {
   "cell_type": "code",
   "execution_count": null,
   "metadata": {
    "collapsed": false
   },
   "outputs": [],
   "source": []
  },
  {
   "cell_type": "code",
   "execution_count": null,
   "metadata": {
    "collapsed": false
   },
   "outputs": [],
   "source": [
    "lib.head(20)"
   ]
  },
  {
   "cell_type": "code",
   "execution_count": null,
   "metadata": {
    "collapsed": false
   },
   "outputs": [],
   "source": [
    "lib.shape"
   ]
  }
 ],
 "metadata": {
  "anaconda-cloud": {},
  "kernelspec": {
   "display_name": "Python [conda root]",
   "language": "python",
   "name": "conda-root-py"
  },
  "language_info": {
   "codemirror_mode": {
    "name": "ipython",
    "version": 3
   },
   "file_extension": ".py",
   "mimetype": "text/x-python",
   "name": "python",
   "nbconvert_exporter": "python",
   "pygments_lexer": "ipython3",
   "version": "3.5.2"
  }
 },
 "nbformat": 4,
 "nbformat_minor": 2
}
